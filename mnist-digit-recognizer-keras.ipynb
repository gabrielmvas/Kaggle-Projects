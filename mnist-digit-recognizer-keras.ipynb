{
 "cells": [
  {
   "cell_type": "markdown",
   "metadata": {},
   "source": [
    "First of all some imports"
   ]
  },
  {
   "cell_type": "code",
   "execution_count": 1,
   "metadata": {
    "_cell_guid": "b1076dfc-b9ad-4769-8c92-a6c4dae69d19",
    "_uuid": "8f2839f25d086af736a60e9eeb907d3b93b6e0e5"
   },
   "outputs": [
    {
     "name": "stderr",
     "output_type": "stream",
     "text": [
      "Using TensorFlow backend.\n"
     ]
    },
    {
     "name": "stdout",
     "output_type": "stream",
     "text": [
      "['train.csv', 'sample_submission.csv', 'test.csv']\n"
     ]
    }
   ],
   "source": [
    "import numpy as np \n",
    "import pandas as pd \n",
    "\n",
    "from keras.utils.np_utils import to_categorical\n",
    "from sklearn.model_selection import train_test_split\n",
    "from keras.preprocessing.image import ImageDataGenerator\n",
    "from keras.models import Sequential\n",
    "from keras.layers import Conv2D, Dense, Flatten, BatchNormalization, Activation, Dropout, DepthwiseConv2D\n",
    "from keras.layers.pooling import GlobalAveragePooling2D, MaxPool2D\n",
    "from keras.optimizers import Adam\n",
    "from keras.callbacks import ReduceLROnPlateau, ModelCheckpoint, EarlyStopping\n",
    "import matplotlib.pyplot as plt\n",
    "from sklearn.metrics import confusion_matrix\n",
    "import itertools\n",
    "\n",
    "import os\n",
    "print(os.listdir(\"../input\"))"
   ]
  },
  {
   "cell_type": "markdown",
   "metadata": {},
   "source": [
    "Loading the data"
   ]
  },
  {
   "cell_type": "code",
   "execution_count": 2,
   "metadata": {
    "_cell_guid": "79c7e3d0-c299-4dcb-8224-4455121ee9b0",
    "_uuid": "d629ff2d2480ee46fbb7e2d37f6b5fab8052498a"
   },
   "outputs": [],
   "source": [
    "train_data = pd.read_csv('../input/train.csv')\n",
    "test_data = pd.read_csv('../input/test.csv')"
   ]
  },
  {
   "cell_type": "markdown",
   "metadata": {},
   "source": [
    "Split the data into images and labels"
   ]
  },
  {
   "cell_type": "code",
   "execution_count": 3,
   "metadata": {},
   "outputs": [],
   "source": [
    "x_train = train_data.drop(labels = ['label'], axis = 1)\n",
    "y_train = train_data['label']"
   ]
  },
  {
   "cell_type": "markdown",
   "metadata": {},
   "source": [
    "Free some space"
   ]
  },
  {
   "cell_type": "code",
   "execution_count": 4,
   "metadata": {},
   "outputs": [],
   "source": [
    "del train_data"
   ]
  },
  {
   "cell_type": "markdown",
   "metadata": {},
   "source": [
    "Some visualization"
   ]
  },
  {
   "cell_type": "code",
   "execution_count": 5,
   "metadata": {},
   "outputs": [
    {
     "data": {
      "text/plain": [
       "1    4684\n",
       "7    4401\n",
       "3    4351\n",
       "9    4188\n",
       "2    4177\n",
       "6    4137\n",
       "0    4132\n",
       "4    4072\n",
       "8    4063\n",
       "5    3795\n",
       "Name: label, dtype: int64"
      ]
     },
     "execution_count": 5,
     "metadata": {},
     "output_type": "execute_result"
    }
   ],
   "source": [
    "y_train.value_counts()"
   ]
  },
  {
   "cell_type": "markdown",
   "metadata": {},
   "source": [
    "Now we normalize the training and test data"
   ]
  },
  {
   "cell_type": "code",
   "execution_count": 6,
   "metadata": {},
   "outputs": [],
   "source": [
    "x_train = x_train / 255.0\n",
    "test_data = test_data / 255.0"
   ]
  },
  {
   "cell_type": "markdown",
   "metadata": {},
   "source": [
    "Now we need to reshape the data (28,28,1)"
   ]
  },
  {
   "cell_type": "code",
   "execution_count": 7,
   "metadata": {},
   "outputs": [],
   "source": [
    "x_train = x_train.values.reshape(-1, 28, 28, 1)\n",
    "test_data = test_data.values.reshape(-1, 28, 28, 1)"
   ]
  },
  {
   "cell_type": "markdown",
   "metadata": {},
   "source": [
    "Now we encode the labels to one hot encoded vectors"
   ]
  },
  {
   "cell_type": "code",
   "execution_count": 8,
   "metadata": {},
   "outputs": [],
   "source": [
    "y_train = to_categorical(y_train, num_classes = 10)"
   ]
  },
  {
   "cell_type": "markdown",
   "metadata": {},
   "source": [
    "set the random seed"
   ]
  },
  {
   "cell_type": "code",
   "execution_count": 9,
   "metadata": {},
   "outputs": [],
   "source": [
    "random_seed = 2"
   ]
  },
  {
   "cell_type": "markdown",
   "metadata": {},
   "source": [
    "Split training and validation data "
   ]
  },
  {
   "cell_type": "code",
   "execution_count": 10,
   "metadata": {},
   "outputs": [],
   "source": [
    "x_train, x_val, y_train, y_val = train_test_split(x_train, y_train, test_size = 0.15, random_state = random_seed)"
   ]
  },
  {
   "cell_type": "markdown",
   "metadata": {},
   "source": [
    "Now we create the model"
   ]
  },
  {
   "cell_type": "code",
   "execution_count": 11,
   "metadata": {},
   "outputs": [],
   "source": [
    "def create_model():\n",
    "    model = Sequential()\n",
    "    model.add(Conv2D(filters = 64, kernel_size = (3,3),padding = 'Same', activation ='relu', input_shape = (28,28,1)))\n",
    "    model.add(Conv2D(filters = 64, kernel_size = (3,3),padding = 'Same', activation ='relu'))\n",
    "    model.add(BatchNormalization())\n",
    "\n",
    "    model.add(MaxPool2D(pool_size = (2,2), strides = (2,2)))\n",
    "    model.add(Dropout(0.25))\n",
    "\n",
    "    model.add(Conv2D(filters = 128, kernel_size = (3,3),padding = 'Same', activation ='relu'))\n",
    "    model.add(Conv2D(filters = 128, kernel_size = (3,3),padding = 'Same', activation ='relu'))\n",
    "    model.add(BatchNormalization())\n",
    "\n",
    "    model.add(MaxPool2D(pool_size = (2,2), strides = (2,2)))\n",
    "    model.add(Dropout(0.25))\n",
    "\n",
    "    model.add(Conv2D(filters = 256, kernel_size = (3,3),padding = 'Same', activation ='relu'))\n",
    "    model.add(Conv2D(filters = 256, kernel_size = (3,3),padding = 'Same', activation ='relu'))\n",
    "    model.add(BatchNormalization())\n",
    "\n",
    "    model.add(MaxPool2D(pool_size = (2,2), strides = (2,2)))\n",
    "    model.add(Dropout(0.25))\n",
    "\n",
    "    model.add(Flatten())\n",
    "    \n",
    "    model.add(Dense(512, activation = \"relu\"))\n",
    "    model.add(BatchNormalization())\n",
    "    model.add(Dropout(0.5))\n",
    "    \n",
    "    model.add(Dense(256, activation = \"relu\"))\n",
    "    model.add(BatchNormalization())\n",
    "    model.add(Dropout(0.5))\n",
    "    \n",
    "    model.add(Dense(10, activation = \"softmax\"))\n",
    "    \n",
    "    model.compile(Adam(lr = 0.003), loss = 'categorical_crossentropy', metrics = ['accuracy'])\n",
    "    \n",
    "    return model"
   ]
  },
  {
   "cell_type": "code",
   "execution_count": 12,
   "metadata": {},
   "outputs": [
    {
     "name": "stdout",
     "output_type": "stream",
     "text": [
      "WARNING:tensorflow:From /opt/conda/lib/python3.6/site-packages/tensorflow/python/framework/op_def_library.py:263: colocate_with (from tensorflow.python.framework.ops) is deprecated and will be removed in a future version.\n",
      "Instructions for updating:\n",
      "Colocations handled automatically by placer.\n",
      "WARNING:tensorflow:From /opt/conda/lib/python3.6/site-packages/keras/backend/tensorflow_backend.py:3445: calling dropout (from tensorflow.python.ops.nn_ops) with keep_prob is deprecated and will be removed in a future version.\n",
      "Instructions for updating:\n",
      "Please use `rate` instead of `keep_prob`. Rate should be set to `rate = 1 - keep_prob`.\n",
      "_________________________________________________________________\n",
      "Layer (type)                 Output Shape              Param #   \n",
      "=================================================================\n",
      "conv2d_1 (Conv2D)            (None, 28, 28, 64)        640       \n",
      "_________________________________________________________________\n",
      "conv2d_2 (Conv2D)            (None, 28, 28, 64)        36928     \n",
      "_________________________________________________________________\n",
      "batch_normalization_1 (Batch (None, 28, 28, 64)        256       \n",
      "_________________________________________________________________\n",
      "max_pooling2d_1 (MaxPooling2 (None, 14, 14, 64)        0         \n",
      "_________________________________________________________________\n",
      "dropout_1 (Dropout)          (None, 14, 14, 64)        0         \n",
      "_________________________________________________________________\n",
      "conv2d_3 (Conv2D)            (None, 14, 14, 128)       73856     \n",
      "_________________________________________________________________\n",
      "conv2d_4 (Conv2D)            (None, 14, 14, 128)       147584    \n",
      "_________________________________________________________________\n",
      "batch_normalization_2 (Batch (None, 14, 14, 128)       512       \n",
      "_________________________________________________________________\n",
      "max_pooling2d_2 (MaxPooling2 (None, 7, 7, 128)         0         \n",
      "_________________________________________________________________\n",
      "dropout_2 (Dropout)          (None, 7, 7, 128)         0         \n",
      "_________________________________________________________________\n",
      "conv2d_5 (Conv2D)            (None, 7, 7, 256)         295168    \n",
      "_________________________________________________________________\n",
      "conv2d_6 (Conv2D)            (None, 7, 7, 256)         590080    \n",
      "_________________________________________________________________\n",
      "batch_normalization_3 (Batch (None, 7, 7, 256)         1024      \n",
      "_________________________________________________________________\n",
      "max_pooling2d_3 (MaxPooling2 (None, 3, 3, 256)         0         \n",
      "_________________________________________________________________\n",
      "dropout_3 (Dropout)          (None, 3, 3, 256)         0         \n",
      "_________________________________________________________________\n",
      "flatten_1 (Flatten)          (None, 2304)              0         \n",
      "_________________________________________________________________\n",
      "dense_1 (Dense)              (None, 512)               1180160   \n",
      "_________________________________________________________________\n",
      "batch_normalization_4 (Batch (None, 512)               2048      \n",
      "_________________________________________________________________\n",
      "dropout_4 (Dropout)          (None, 512)               0         \n",
      "_________________________________________________________________\n",
      "dense_2 (Dense)              (None, 256)               131328    \n",
      "_________________________________________________________________\n",
      "batch_normalization_5 (Batch (None, 256)               1024      \n",
      "_________________________________________________________________\n",
      "dropout_5 (Dropout)          (None, 256)               0         \n",
      "_________________________________________________________________\n",
      "dense_3 (Dense)              (None, 10)                2570      \n",
      "=================================================================\n",
      "Total params: 2,463,178\n",
      "Trainable params: 2,460,746\n",
      "Non-trainable params: 2,432\n",
      "_________________________________________________________________\n"
     ]
    }
   ],
   "source": [
    "model = create_model()\n",
    "model.summary()"
   ]
  },
  {
   "cell_type": "markdown",
   "metadata": {},
   "source": [
    "Now we do some data augmentation"
   ]
  },
  {
   "cell_type": "code",
   "execution_count": 13,
   "metadata": {},
   "outputs": [],
   "source": [
    "data_generator = ImageDataGenerator(\n",
    "        featurewise_center = False,\n",
    "        samplewise_center = False,\n",
    "        featurewise_std_normalization = False,\n",
    "        samplewise_std_normalization = False,\n",
    "        zca_whitening = False,\n",
    "        rotation_range = 15,\n",
    "        zoom_range = 0.15,\n",
    "        width_shift_range = 0.1,\n",
    "        height_shift_range = 0.1,\n",
    "        horizontal_flip = False,\n",
    "        vertical_flip = False)"
   ]
  },
  {
   "cell_type": "code",
   "execution_count": 14,
   "metadata": {},
   "outputs": [],
   "source": [
    "data_generator.fit(x_train)"
   ]
  },
  {
   "cell_type": "markdown",
   "metadata": {},
   "source": [
    "Now some important variables"
   ]
  },
  {
   "cell_type": "code",
   "execution_count": 15,
   "metadata": {},
   "outputs": [],
   "source": [
    "epochs = 50\n",
    "batch_size = 32\n",
    "train_step_size = x_train.shape[0] // batch_size\n",
    "weights_file_path = 'mnist_weights.h5'"
   ]
  },
  {
   "cell_type": "markdown",
   "metadata": {},
   "source": [
    "Now we define the callbacks we'll use while training"
   ]
  },
  {
   "cell_type": "code",
   "execution_count": 16,
   "metadata": {},
   "outputs": [],
   "source": [
    "reduce_learning_rate = ReduceLROnPlateau(monitor = 'val_acc', patience = 3, verbose = 1, factor = 0.75, min_lr = 0.00001)\n",
    "checkpoint = ModelCheckpoint(weights_file_path, monitor = 'val_acc', verbose = 1, save_best_only = True, mode = 'max')\n",
    "early_stopping = EarlyStopping(monitor = 'val_loss', min_delta = 1e-10, patience = 10, verbose = 1, restore_best_weights = True)\n",
    "\n",
    "callbacks = [reduce_learning_rate, checkpoint, early_stopping]"
   ]
  },
  {
   "cell_type": "markdown",
   "metadata": {},
   "source": [
    "Finally we train the model"
   ]
  },
  {
   "cell_type": "code",
   "execution_count": 17,
   "metadata": {},
   "outputs": [
    {
     "name": "stdout",
     "output_type": "stream",
     "text": [
      "WARNING:tensorflow:From /opt/conda/lib/python3.6/site-packages/tensorflow/python/ops/math_ops.py:3066: to_int32 (from tensorflow.python.ops.math_ops) is deprecated and will be removed in a future version.\n",
      "Instructions for updating:\n",
      "Use tf.cast instead.\n",
      "Epoch 1/50\n",
      "1115/1115 [==============================] - 22s 20ms/step - loss: 0.4925 - acc: 0.8497 - val_loss: 0.2403 - val_acc: 0.9210\n",
      "\n",
      "Epoch 00001: val_acc improved from -inf to 0.92095, saving model to mnist_weights.h5\n",
      "Epoch 2/50\n",
      "1115/1115 [==============================] - 18s 16ms/step - loss: 0.1763 - acc: 0.9475 - val_loss: 0.0471 - val_acc: 0.9857\n",
      "\n",
      "Epoch 00002: val_acc improved from 0.92095 to 0.98571, saving model to mnist_weights.h5\n",
      "Epoch 3/50\n",
      "1115/1115 [==============================] - 18s 16ms/step - loss: 0.1330 - acc: 0.9611 - val_loss: 0.0473 - val_acc: 0.9848\n",
      "\n",
      "Epoch 00003: val_acc did not improve from 0.98571\n",
      "Epoch 4/50\n",
      "1115/1115 [==============================] - 18s 16ms/step - loss: 0.1161 - acc: 0.9667 - val_loss: 0.0641 - val_acc: 0.9811\n",
      "\n",
      "Epoch 00004: val_acc did not improve from 0.98571\n",
      "Epoch 5/50\n",
      "1115/1115 [==============================] - 18s 16ms/step - loss: 0.1004 - acc: 0.9717 - val_loss: 0.0519 - val_acc: 0.9824\n",
      "\n",
      "Epoch 00005: ReduceLROnPlateau reducing learning rate to 0.002250000019557774.\n",
      "\n",
      "Epoch 00005: val_acc did not improve from 0.98571\n",
      "Epoch 6/50\n",
      "1115/1115 [==============================] - 18s 16ms/step - loss: 0.0804 - acc: 0.9779 - val_loss: 0.0265 - val_acc: 0.9930\n",
      "\n",
      "Epoch 00006: val_acc improved from 0.98571 to 0.99302, saving model to mnist_weights.h5\n",
      "Epoch 7/50\n",
      "1115/1115 [==============================] - 18s 16ms/step - loss: 0.0764 - acc: 0.9776 - val_loss: 0.0274 - val_acc: 0.9910\n",
      "\n",
      "Epoch 00007: val_acc did not improve from 0.99302\n",
      "Epoch 8/50\n",
      "1115/1115 [==============================] - 18s 16ms/step - loss: 0.0691 - acc: 0.9803 - val_loss: 0.0242 - val_acc: 0.9910\n",
      "\n",
      "Epoch 00008: val_acc did not improve from 0.99302\n",
      "Epoch 9/50\n",
      "1115/1115 [==============================] - 19s 17ms/step - loss: 0.0671 - acc: 0.9806 - val_loss: 0.0332 - val_acc: 0.9905\n",
      "\n",
      "Epoch 00009: ReduceLROnPlateau reducing learning rate to 0.0016874999273568392.\n",
      "\n",
      "Epoch 00009: val_acc did not improve from 0.99302\n",
      "Epoch 10/50\n",
      "1115/1115 [==============================] - 18s 16ms/step - loss: 0.0537 - acc: 0.9839 - val_loss: 0.0222 - val_acc: 0.9929\n",
      "\n",
      "Epoch 00010: val_acc did not improve from 0.99302\n",
      "Epoch 11/50\n",
      "1115/1115 [==============================] - 18s 16ms/step - loss: 0.0511 - acc: 0.9855 - val_loss: 0.0221 - val_acc: 0.9941\n",
      "\n",
      "Epoch 00011: val_acc improved from 0.99302 to 0.99413, saving model to mnist_weights.h5\n",
      "Epoch 12/50\n",
      "1115/1115 [==============================] - 18s 16ms/step - loss: 0.0490 - acc: 0.9864 - val_loss: 0.0182 - val_acc: 0.9941\n",
      "\n",
      "Epoch 00012: val_acc did not improve from 0.99413\n",
      "Epoch 13/50\n",
      "1115/1115 [==============================] - 18s 16ms/step - loss: 0.0454 - acc: 0.9867 - val_loss: 0.0396 - val_acc: 0.9889\n",
      "\n",
      "Epoch 00013: val_acc did not improve from 0.99413\n",
      "Epoch 14/50\n",
      "1115/1115 [==============================] - 18s 16ms/step - loss: 0.0438 - acc: 0.9876 - val_loss: 0.0201 - val_acc: 0.9938\n",
      "\n",
      "Epoch 00014: ReduceLROnPlateau reducing learning rate to 0.0012656249455176294.\n",
      "\n",
      "Epoch 00014: val_acc did not improve from 0.99413\n",
      "Epoch 15/50\n",
      "1115/1115 [==============================] - 18s 16ms/step - loss: 0.0370 - acc: 0.9893 - val_loss: 0.0162 - val_acc: 0.9952\n",
      "\n",
      "Epoch 00015: val_acc improved from 0.99413 to 0.99524, saving model to mnist_weights.h5\n",
      "Epoch 16/50\n",
      "1115/1115 [==============================] - 18s 16ms/step - loss: 0.0346 - acc: 0.9899 - val_loss: 0.0169 - val_acc: 0.9957\n",
      "\n",
      "Epoch 00016: val_acc improved from 0.99524 to 0.99571, saving model to mnist_weights.h5\n",
      "Epoch 17/50\n",
      "1115/1115 [==============================] - 18s 16ms/step - loss: 0.0350 - acc: 0.9904 - val_loss: 0.0148 - val_acc: 0.9949\n",
      "\n",
      "Epoch 00017: val_acc did not improve from 0.99571\n",
      "Epoch 18/50\n",
      "1115/1115 [==============================] - 19s 17ms/step - loss: 0.0330 - acc: 0.9909 - val_loss: 0.0191 - val_acc: 0.9943\n",
      "\n",
      "Epoch 00018: val_acc did not improve from 0.99571\n",
      "Epoch 19/50\n",
      "1115/1115 [==============================] - 17s 16ms/step - loss: 0.0338 - acc: 0.9910 - val_loss: 0.0153 - val_acc: 0.9952\n",
      "\n",
      "Epoch 00019: ReduceLROnPlateau reducing learning rate to 0.0009492187527939677.\n",
      "\n",
      "Epoch 00019: val_acc did not improve from 0.99571\n",
      "Epoch 20/50\n",
      "1115/1115 [==============================] - 17s 15ms/step - loss: 0.0279 - acc: 0.9921 - val_loss: 0.0203 - val_acc: 0.9952\n",
      "\n",
      "Epoch 00020: val_acc did not improve from 0.99571\n",
      "Epoch 21/50\n",
      "  28/1115 [..............................] - ETA: 16s - loss: 0.0424 - acc: 0.9882"
     ]
    }
   ],
   "source": [
    "history = model.fit_generator(data_generator.flow(x_train, y_train, batch_size = batch_size),\n",
    "                              epochs = epochs,\n",
    "                              validation_data = (x_val, y_val),\n",
    "                              verbose = 1,\n",
    "                              steps_per_epoch = train_step_size,\n",
    "                              callbacks = callbacks)"
   ]
  },
  {
   "cell_type": "markdown",
   "metadata": {},
   "source": [
    "Now we predict the results "
   ]
  },
  {
   "cell_type": "code",
   "execution_count": 18,
   "metadata": {},
   "outputs": [],
   "source": [
    "predict_model = create_model()\n",
    "predict_model.load_weights(weights_file_path)\n",
    "\n",
    "predictions = predict_model.predict(test_data)"
   ]
  },
  {
   "cell_type": "markdown",
   "metadata": {},
   "source": [
    "A helper functions to plot training curves and confusion matrix"
   ]
  },
  {
   "cell_type": "code",
   "execution_count": 19,
   "metadata": {},
   "outputs": [],
   "source": [
    "def plot_training_curves(history):\n",
    "    acc = history.history['acc']\n",
    "    val_acc = history.history['val_acc']\n",
    "    loss = history.history['loss']\n",
    "    val_loss = history.history['val_loss']\n",
    "    \n",
    "    epochs = range(1, len(acc) + 1)\n",
    "    \n",
    "    plt.plot(epochs, loss, 'r', label='Training loss')\n",
    "    plt.plot(epochs, val_loss, 'g', label='Validation loss')\n",
    "    plt.title('Training and Validation loss')\n",
    "    plt.legend()\n",
    "    plt.figure()\n",
    "    \n",
    "    plt.plot(epochs, acc, 'r', label='Training acc')\n",
    "    plt.plot(epochs, val_acc, 'g', label='Validation acc')\n",
    "    plt.title('Training and Validation accuracy')\n",
    "    plt.legend()\n",
    "    plt.figure()\n",
    "    \n",
    "    plt.show()\n",
    "    \n",
    "def plot_confusion_matrix(cm, classes,\n",
    "                          normalize=False,\n",
    "                          title='Confusion matrix',\n",
    "                          cmap=plt.cm.Blues):\n",
    "    \"\"\"\n",
    "    This function prints and plots the confusion matrix.\n",
    "    Normalization can be applied by setting `normalize=True`.\n",
    "    \"\"\"\n",
    "    plt.imshow(cm, interpolation='nearest', cmap=cmap)\n",
    "    plt.title(title)\n",
    "    plt.colorbar()\n",
    "    tick_marks = np.arange(len(classes))\n",
    "    plt.xticks(tick_marks, classes, rotation=45)\n",
    "    plt.yticks(tick_marks, classes)\n",
    "\n",
    "    if normalize:\n",
    "        cm = cm.astype('float') / cm.sum(axis=1)[:, np.newaxis]\n",
    "\n",
    "    thresh = cm.max() / 2.\n",
    "    for i, j in itertools.product(range(cm.shape[0]), range(cm.shape[1])):\n",
    "        plt.text(j, i, cm[i, j],\n",
    "                 horizontalalignment=\"center\",\n",
    "                 color=\"white\" if cm[i, j] > thresh else \"black\")\n",
    "\n",
    "    plt.tight_layout()\n",
    "    plt.ylabel('True label')\n",
    "    plt.xlabel('Predicted label')"
   ]
  },
  {
   "cell_type": "code",
   "execution_count": 20,
   "metadata": {},
   "outputs": [
    {
     "data": {
      "image/png": "[encoded data removed]",
      "text/plain": [
       "<Figure size 432x288 with 1 Axes>"
      ]
     },
     "metadata": {},
     "output_type": "display_data"
    },
    {
     "data": {
      "image/png": "[encoded data removed]",
      "text/plain": [
       "<Figure size 432x288 with 1 Axes>"
      ]
     },
     "metadata": {},
     "output_type": "display_data"
    },
    {
     "data": {
      "text/plain": [
       "<Figure size 432x288 with 0 Axes>"
      ]
     },
     "metadata": {},
     "output_type": "display_data"
    }
   ],
   "source": [
    "plot_training_curves(history)"
   ]
  },
  {
   "cell_type": "code",
   "execution_count": 21,
   "metadata": {},
   "outputs": [
    {
     "data": {
      "image/png": "[encoded data removed]",
      "text/plain": [
       "<Figure size 432x288 with 2 Axes>"
      ]
     },
     "metadata": {},
     "output_type": "display_data"
    }
   ],
   "source": [
    "y_pred = model.predict(x_val)\n",
    "\n",
    "y_pred_classes = np.argmax(y_pred,axis = 1) \n",
    "\n",
    "y_true = np.argmax(y_val,axis = 1) \n",
    "\n",
    "confusion_mtx = confusion_matrix(y_true, y_pred_classes) \n",
    "\n",
    "plot_confusion_matrix(confusion_mtx, classes = range(10)) "
   ]
  },
  {
   "cell_type": "code",
   "execution_count": 22,
   "metadata": {},
   "outputs": [],
   "source": [
    "predictions = np.argmax(predictions,axis = 1)\n",
    "\n",
    "predictions = pd.Series(predictions,name=\"Label\")\n",
    "\n",
    "submission = pd.concat([pd.Series(range(1,28001),name = \"ImageId\"), predictions],axis = 1)\n",
    "\n",
    "submission.to_csv(\"mnist_submission.csv\",index=False)"
   ]
  }
 ],
 "metadata": {
  "kernelspec": {
   "display_name": "Python 3",
   "language": "python",
   "name": "python3"
  },
  "language_info": {
   "codemirror_mode": {
    "name": "ipython",
    "version": 3
   },
   "file_extension": ".py",
   "mimetype": "text/x-python",
   "name": "python",
   "nbconvert_exporter": "python",
   "pygments_lexer": "ipython3",
   "version": "3.6.4"
  }
 },
 "nbformat": 4,
 "nbformat_minor": 1
}
