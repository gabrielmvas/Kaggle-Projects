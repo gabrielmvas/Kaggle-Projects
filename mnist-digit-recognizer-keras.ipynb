{
 "cells": [
  {
   "cell_type": "code",
   "execution_count": 1,
   "metadata": {
    "_cell_guid": "b1076dfc-b9ad-4769-8c92-a6c4dae69d19",
    "_uuid": "8f2839f25d086af736a60e9eeb907d3b93b6e0e5"
   },
   "outputs": [
    {
     "name": "stderr",
     "output_type": "stream",
     "text": [
      "Using TensorFlow backend.\n",
      "/opt/conda/lib/python3.6/site-packages/tensorflow/python/framework/dtypes.py:516: FutureWarning: Passing (type, 1) or '1type' as a synonym of type is deprecated; in a future version of numpy, it will be understood as (type, (1,)) / '(1,)type'.\n",
      "  _np_qint8 = np.dtype([(\"qint8\", np.int8, 1)])\n",
      "/opt/conda/lib/python3.6/site-packages/tensorflow/python/framework/dtypes.py:517: FutureWarning: Passing (type, 1) or '1type' as a synonym of type is deprecated; in a future version of numpy, it will be understood as (type, (1,)) / '(1,)type'.\n",
      "  _np_quint8 = np.dtype([(\"quint8\", np.uint8, 1)])\n",
      "/opt/conda/lib/python3.6/site-packages/tensorflow/python/framework/dtypes.py:518: FutureWarning: Passing (type, 1) or '1type' as a synonym of type is deprecated; in a future version of numpy, it will be understood as (type, (1,)) / '(1,)type'.\n",
      "  _np_qint16 = np.dtype([(\"qint16\", np.int16, 1)])\n",
      "/opt/conda/lib/python3.6/site-packages/tensorflow/python/framework/dtypes.py:519: FutureWarning: Passing (type, 1) or '1type' as a synonym of type is deprecated; in a future version of numpy, it will be understood as (type, (1,)) / '(1,)type'.\n",
      "  _np_quint16 = np.dtype([(\"quint16\", np.uint16, 1)])\n",
      "/opt/conda/lib/python3.6/site-packages/tensorflow/python/framework/dtypes.py:520: FutureWarning: Passing (type, 1) or '1type' as a synonym of type is deprecated; in a future version of numpy, it will be understood as (type, (1,)) / '(1,)type'.\n",
      "  _np_qint32 = np.dtype([(\"qint32\", np.int32, 1)])\n",
      "/opt/conda/lib/python3.6/site-packages/tensorflow/python/framework/dtypes.py:525: FutureWarning: Passing (type, 1) or '1type' as a synonym of type is deprecated; in a future version of numpy, it will be understood as (type, (1,)) / '(1,)type'.\n",
      "  np_resource = np.dtype([(\"resource\", np.ubyte, 1)])\n",
      "/opt/conda/lib/python3.6/site-packages/tensorboard/compat/tensorflow_stub/dtypes.py:541: FutureWarning: Passing (type, 1) or '1type' as a synonym of type is deprecated; in a future version of numpy, it will be understood as (type, (1,)) / '(1,)type'.\n",
      "  _np_qint8 = np.dtype([(\"qint8\", np.int8, 1)])\n",
      "/opt/conda/lib/python3.6/site-packages/tensorboard/compat/tensorflow_stub/dtypes.py:542: FutureWarning: Passing (type, 1) or '1type' as a synonym of type is deprecated; in a future version of numpy, it will be understood as (type, (1,)) / '(1,)type'.\n",
      "  _np_quint8 = np.dtype([(\"quint8\", np.uint8, 1)])\n",
      "/opt/conda/lib/python3.6/site-packages/tensorboard/compat/tensorflow_stub/dtypes.py:543: FutureWarning: Passing (type, 1) or '1type' as a synonym of type is deprecated; in a future version of numpy, it will be understood as (type, (1,)) / '(1,)type'.\n",
      "  _np_qint16 = np.dtype([(\"qint16\", np.int16, 1)])\n",
      "/opt/conda/lib/python3.6/site-packages/tensorboard/compat/tensorflow_stub/dtypes.py:544: FutureWarning: Passing (type, 1) or '1type' as a synonym of type is deprecated; in a future version of numpy, it will be understood as (type, (1,)) / '(1,)type'.\n",
      "  _np_quint16 = np.dtype([(\"quint16\", np.uint16, 1)])\n",
      "/opt/conda/lib/python3.6/site-packages/tensorboard/compat/tensorflow_stub/dtypes.py:545: FutureWarning: Passing (type, 1) or '1type' as a synonym of type is deprecated; in a future version of numpy, it will be understood as (type, (1,)) / '(1,)type'.\n",
      "  _np_qint32 = np.dtype([(\"qint32\", np.int32, 1)])\n",
      "/opt/conda/lib/python3.6/site-packages/tensorboard/compat/tensorflow_stub/dtypes.py:550: FutureWarning: Passing (type, 1) or '1type' as a synonym of type is deprecated; in a future version of numpy, it will be understood as (type, (1,)) / '(1,)type'.\n",
      "  np_resource = np.dtype([(\"resource\", np.ubyte, 1)])\n"
     ]
    },
    {
     "name": "stdout",
     "output_type": "stream",
     "text": [
      "['train.csv', 'sample_submission.csv', 'test.csv']\n"
     ]
    }
   ],
   "source": [
    "import numpy as np \n",
    "import pandas as pd \n",
    "\n",
    "from keras.utils.np_utils import to_categorical\n",
    "from sklearn.model_selection import train_test_split\n",
    "from keras.preprocessing.image import ImageDataGenerator\n",
    "from keras.models import Sequential\n",
    "from keras.layers import Conv2D, Dense, Flatten, BatchNormalization, Activation, Dropout, DepthwiseConv2D\n",
    "from keras.layers.pooling import GlobalAveragePooling2D, MaxPooling2D\n",
    "from keras.optimizers import Adam\n",
    "from keras.callbacks import ReduceLROnPlateau, ModelCheckpoint, EarlyStopping\n",
    "import matplotlib.pyplot as plt\n",
    "from sklearn.metrics import confusion_matrix\n",
    "import itertools\n",
    "from keras.datasets import mnist\n",
    "from keras.utils import np_utils\n",
    "\n",
    "\n",
    "import os\n",
    "print(os.listdir(\"../input\"))"
   ]
  },
  {
   "cell_type": "markdown",
   "metadata": {},
   "source": [
    "Loading the data"
   ]
  },
  {
   "cell_type": "code",
   "execution_count": 2,
   "metadata": {},
   "outputs": [
    {
     "name": "stdout",
     "output_type": "stream",
     "text": [
      "Downloading data from https://s3.amazonaws.com/img-datasets/mnist.npz\n",
      "11493376/11490434 [==============================] - 0s 0us/step\n",
      "(70000, 28, 28, 1) (70000,)\n"
     ]
    }
   ],
   "source": [
    "(X_train, y_train), (X_test, y_test) = mnist.load_data()\n",
    "X_train = np.vstack((X_train, X_test))\n",
    "y_train = np.concatenate([y_train, y_test])\n",
    "X_train = X_train.reshape(-1, 28, 28, 1)\n",
    "print(X_train.shape, y_train.shape)"
   ]
  },
  {
   "cell_type": "code",
   "execution_count": 3,
   "metadata": {
    "_cell_guid": "79c7e3d0-c299-4dcb-8224-4455121ee9b0",
    "_uuid": "d629ff2d2480ee46fbb7e2d37f6b5fab8052498a"
   },
   "outputs": [
    {
     "name": "stdout",
     "output_type": "stream",
     "text": [
      "(42000, 28, 28, 1) (42000,)\n"
     ]
    }
   ],
   "source": [
    "train = pd.read_csv('../input/train.csv').values\n",
    "y_val = train[:,0].astype('int32')\n",
    "X_val = train[:,1:].astype('float32')\n",
    "X_val = X_val.reshape(-1,28,28,1)\n",
    "print(X_val.shape, y_val.shape)"
   ]
  },
  {
   "cell_type": "markdown",
   "metadata": {},
   "source": [
    "Split the data into images and labels"
   ]
  },
  {
   "cell_type": "code",
   "execution_count": 4,
   "metadata": {},
   "outputs": [],
   "source": [
    "X_test = pd.read_csv('../input/test.csv').values.astype('float32')\n",
    "X_test = X_test.reshape(-1, 28, 28, 1)"
   ]
  },
  {
   "cell_type": "markdown",
   "metadata": {},
   "source": [
    "Now we normalize the training and test data"
   ]
  },
  {
   "cell_type": "code",
   "execution_count": 5,
   "metadata": {},
   "outputs": [],
   "source": [
    "X_train = X_train.astype('float32') / 255\n",
    "X_val = X_val.astype('float32') / 255\n",
    "X_test = X_test.astype('float32') / 255 "
   ]
  },
  {
   "cell_type": "markdown",
   "metadata": {},
   "source": [
    "Now we encode the labels to one hot encoded vectors"
   ]
  },
  {
   "cell_type": "code",
   "execution_count": 6,
   "metadata": {},
   "outputs": [],
   "source": [
    "y_train = np_utils.to_categorical(y_train, 10)\n",
    "y_val = np_utils.to_categorical(y_val, 10)"
   ]
  },
  {
   "cell_type": "markdown",
   "metadata": {},
   "source": [
    "set the random seed"
   ]
  },
  {
   "cell_type": "code",
   "execution_count": 7,
   "metadata": {},
   "outputs": [],
   "source": [
    "random_seed = 2"
   ]
  },
  {
   "cell_type": "markdown",
   "metadata": {},
   "source": [
    "Now we create the model"
   ]
  },
  {
   "cell_type": "code",
   "execution_count": 8,
   "metadata": {},
   "outputs": [],
   "source": [
    "def create_model():\n",
    "    \n",
    "    model = Sequential()\n",
    "    model.add(Conv2D(filters = 64, kernel_size = 3, padding = 'same', activation = 'relu', input_shape = (28,28,1)))\n",
    "    model.add(Conv2D(filters = 64, kernel_size = 3, padding = 'same', activation = 'relu'))\n",
    "    model.add(Conv2D(filters = 128, kernel_size = 3, padding = 'same', activation = 'relu'))\n",
    "    model.add(MaxPooling2D(pool_size = 2))\n",
    "    \n",
    "    model.add(Conv2D(filters = 128, kernel_size = 3, padding = 'same', activation = 'relu'))\n",
    "    model.add(Conv2D(filters = 192, kernel_size = 3, padding = 'same', activation = 'relu'))\n",
    "    model.add(MaxPooling2D(pool_size = 2))\n",
    "    \n",
    "    model.add(Conv2D(filters = 192, kernel_size = 5, padding = 'same', activation = 'relu'))\n",
    "    model.add(MaxPooling2D(pool_size = 2, padding = 'same'))\n",
    "    \n",
    "    model.add(Flatten())\n",
    "    \n",
    "    model.add(Dense(256, activation = 'relu'))\n",
    "    model.add(Dense(10, activation = 'softmax'))\n",
    "    \n",
    "    \n",
    "    model.compile(optimizer = 'adam', loss = 'categorical_crossentropy', metrics = ['accuracy'])\n",
    "    \n",
    "    return model"
   ]
  },
  {
   "cell_type": "code",
   "execution_count": 9,
   "metadata": {},
   "outputs": [
    {
     "name": "stdout",
     "output_type": "stream",
     "text": [
      "_________________________________________________________________\n",
      "Layer (type)                 Output Shape              Param #   \n",
      "=================================================================\n",
      "conv2d_1 (Conv2D)            (None, 28, 28, 64)        640       \n",
      "_________________________________________________________________\n",
      "conv2d_2 (Conv2D)            (None, 28, 28, 64)        36928     \n",
      "_________________________________________________________________\n",
      "conv2d_3 (Conv2D)            (None, 28, 28, 128)       73856     \n",
      "_________________________________________________________________\n",
      "max_pooling2d_1 (MaxPooling2 (None, 14, 14, 128)       0         \n",
      "_________________________________________________________________\n",
      "conv2d_4 (Conv2D)            (None, 14, 14, 128)       147584    \n",
      "_________________________________________________________________\n",
      "conv2d_5 (Conv2D)            (None, 14, 14, 192)       221376    \n",
      "_________________________________________________________________\n",
      "max_pooling2d_2 (MaxPooling2 (None, 7, 7, 192)         0         \n",
      "_________________________________________________________________\n",
      "conv2d_6 (Conv2D)            (None, 7, 7, 192)         921792    \n",
      "_________________________________________________________________\n",
      "max_pooling2d_3 (MaxPooling2 (None, 4, 4, 192)         0         \n",
      "_________________________________________________________________\n",
      "flatten_1 (Flatten)          (None, 3072)              0         \n",
      "_________________________________________________________________\n",
      "dense_1 (Dense)              (None, 256)               786688    \n",
      "_________________________________________________________________\n",
      "dense_2 (Dense)              (None, 10)                2570      \n",
      "=================================================================\n",
      "Total params: 2,191,434\n",
      "Trainable params: 2,191,434\n",
      "Non-trainable params: 0\n",
      "_________________________________________________________________\n"
     ]
    }
   ],
   "source": [
    "model = create_model()\n",
    "model.summary()"
   ]
  },
  {
   "cell_type": "markdown",
   "metadata": {},
   "source": [
    "Now we define the callbacks we'll use while training"
   ]
  },
  {
   "cell_type": "code",
   "execution_count": 10,
   "metadata": {},
   "outputs": [],
   "source": [
    "reduce_learning_rate = ReduceLROnPlateau(monitor = 'val_acc', patience = 3, verbose = 1, factor = 0.3, min_lr = 0.00001)\n",
    "checkpoint = ModelCheckpoint('mnist_weights.h5', monitor = 'val_acc', verbose = 1, save_best_only = True, mode = 'max')\n",
    "early_stopping = EarlyStopping(monitor = 'val_loss', min_delta = 1e-10, patience = 10, verbose = 1, restore_best_weights = True)\n",
    "\n",
    "callbacks = [reduce_learning_rate, checkpoint, early_stopping]"
   ]
  },
  {
   "cell_type": "markdown",
   "metadata": {},
   "source": [
    "Finally we train the model"
   ]
  },
  {
   "cell_type": "code",
   "execution_count": 11,
   "metadata": {},
   "outputs": [
    {
     "name": "stdout",
     "output_type": "stream",
     "text": [
      "Train on 70000 samples, validate on 42000 samples\n",
      "Epoch 1/50\n",
      "70000/70000 [==============================] - 22s 320us/step - loss: 0.1084 - acc: 0.9648 - val_loss: 0.0426 - val_acc: 0.9870\n",
      "\n",
      "Epoch 00001: val_acc improved from -inf to 0.98695, saving model to mnist_weights.h5\n",
      "Epoch 2/50\n",
      "70000/70000 [==============================] - 18s 256us/step - loss: 0.0303 - acc: 0.9907 - val_loss: 0.0233 - val_acc: 0.9929\n",
      "\n",
      "Epoch 00002: val_acc improved from 0.98695 to 0.99286, saving model to mnist_weights.h5\n",
      "Epoch 3/50\n",
      "70000/70000 [==============================] - 18s 256us/step - loss: 0.0232 - acc: 0.9928 - val_loss: 0.0146 - val_acc: 0.9954\n",
      "\n",
      "Epoch 00003: val_acc improved from 0.99286 to 0.99540, saving model to mnist_weights.h5\n",
      "Epoch 4/50\n",
      "70000/70000 [==============================] - 18s 255us/step - loss: 0.0187 - acc: 0.9941 - val_loss: 0.0090 - val_acc: 0.9975\n",
      "\n",
      "Epoch 00004: val_acc improved from 0.99540 to 0.99745, saving model to mnist_weights.h5\n",
      "Epoch 5/50\n",
      "70000/70000 [==============================] - 18s 256us/step - loss: 0.0151 - acc: 0.9953 - val_loss: 0.0126 - val_acc: 0.9959\n",
      "\n",
      "Epoch 00005: val_acc did not improve from 0.99745\n",
      "Epoch 6/50\n",
      "70000/70000 [==============================] - 18s 255us/step - loss: 0.0112 - acc: 0.9966 - val_loss: 0.0088 - val_acc: 0.9975\n",
      "\n",
      "Epoch 00006: val_acc improved from 0.99745 to 0.99755, saving model to mnist_weights.h5\n",
      "Epoch 7/50\n",
      "70000/70000 [==============================] - 18s 255us/step - loss: 0.0110 - acc: 0.9966 - val_loss: 0.0057 - val_acc: 0.9984\n",
      "\n",
      "Epoch 00007: val_acc improved from 0.99755 to 0.99840, saving model to mnist_weights.h5\n",
      "Epoch 8/50\n",
      "70000/70000 [==============================] - 18s 256us/step - loss: 0.0098 - acc: 0.9970 - val_loss: 0.0077 - val_acc: 0.9975\n",
      "\n",
      "Epoch 00008: val_acc did not improve from 0.99840\n",
      "Epoch 9/50\n",
      "70000/70000 [==============================] - 18s 255us/step - loss: 0.0090 - acc: 0.9971 - val_loss: 0.0075 - val_acc: 0.9977\n",
      "\n",
      "Epoch 00009: val_acc did not improve from 0.99840\n",
      "Epoch 10/50\n",
      "70000/70000 [==============================] - 18s 255us/step - loss: 0.0077 - acc: 0.9975 - val_loss: 0.0037 - val_acc: 0.9989\n",
      "\n",
      "Epoch 00010: val_acc improved from 0.99840 to 0.99888, saving model to mnist_weights.h5\n",
      "Epoch 11/50\n",
      "70000/70000 [==============================] - 18s 255us/step - loss: 0.0062 - acc: 0.9981 - val_loss: 0.0089 - val_acc: 0.9975\n",
      "\n",
      "Epoch 00011: val_acc did not improve from 0.99888\n",
      "Epoch 12/50\n",
      "70000/70000 [==============================] - 18s 259us/step - loss: 0.0057 - acc: 0.9983 - val_loss: 0.0045 - val_acc: 0.9988\n",
      "\n",
      "Epoch 00012: val_acc did not improve from 0.99888\n",
      "Epoch 13/50\n",
      "70000/70000 [==============================] - 18s 255us/step - loss: 0.0065 - acc: 0.9981 - val_loss: 0.0063 - val_acc: 0.9981\n",
      "\n",
      "Epoch 00013: ReduceLROnPlateau reducing learning rate to 0.0003000000142492354.\n",
      "\n",
      "Epoch 00013: val_acc did not improve from 0.99888\n",
      "Epoch 14/50\n",
      "70000/70000 [==============================] - 18s 256us/step - loss: 0.0013 - acc: 0.9997 - val_loss: 5.2831e-04 - val_acc: 0.9999\n",
      "\n",
      "Epoch 00014: val_acc improved from 0.99888 to 0.99993, saving model to mnist_weights.h5\n",
      "Epoch 15/50\n",
      "70000/70000 [==============================] - 18s 255us/step - loss: 3.4131e-04 - acc: 0.9999 - val_loss: 4.2514e-04 - val_acc: 1.0000\n",
      "\n",
      "Epoch 00015: val_acc improved from 0.99993 to 0.99995, saving model to mnist_weights.h5\n",
      "Epoch 16/50\n",
      "70000/70000 [==============================] - 18s 256us/step - loss: 2.7073e-04 - acc: 1.0000 - val_loss: 3.9109e-04 - val_acc: 1.0000\n",
      "\n",
      "Epoch 00016: val_acc improved from 0.99995 to 0.99998, saving model to mnist_weights.h5\n",
      "Epoch 17/50\n",
      "70000/70000 [==============================] - 18s 255us/step - loss: 2.3629e-04 - acc: 1.0000 - val_loss: 3.8825e-04 - val_acc: 1.0000\n",
      "\n",
      "Epoch 00017: ReduceLROnPlateau reducing learning rate to 9.000000427477062e-05.\n",
      "\n",
      "Epoch 00017: val_acc did not improve from 0.99998\n",
      "Epoch 18/50\n",
      "70000/70000 [==============================] - 18s 255us/step - loss: 2.3435e-04 - acc: 1.0000 - val_loss: 3.8767e-04 - val_acc: 1.0000\n",
      "\n",
      "Epoch 00018: val_acc did not improve from 0.99998\n",
      "Epoch 19/50\n",
      "70000/70000 [==============================] - 18s 255us/step - loss: 2.3376e-04 - acc: 1.0000 - val_loss: 3.8703e-04 - val_acc: 1.0000\n",
      "\n",
      "Epoch 00019: val_acc did not improve from 0.99998\n",
      "Epoch 20/50\n",
      "70000/70000 [==============================] - 18s 254us/step - loss: 2.3317e-04 - acc: 1.0000 - val_loss: 3.8642e-04 - val_acc: 1.0000\n",
      "\n",
      "Epoch 00020: ReduceLROnPlateau reducing learning rate to 2.700000040931627e-05.\n",
      "\n",
      "Epoch 00020: val_acc did not improve from 0.99998\n",
      "Epoch 21/50\n",
      "70000/70000 [==============================] - 18s 255us/step - loss: 2.3272e-04 - acc: 1.0000 - val_loss: 3.8623e-04 - val_acc: 1.0000\n",
      "\n",
      "Epoch 00021: val_acc did not improve from 0.99998\n",
      "Epoch 22/50\n",
      "70000/70000 [==============================] - 18s 254us/step - loss: 2.3253e-04 - acc: 1.0000 - val_loss: 3.8600e-04 - val_acc: 1.0000\n",
      "\n",
      "Epoch 00022: val_acc did not improve from 0.99998\n",
      "Epoch 23/50\n",
      "70000/70000 [==============================] - 18s 255us/step - loss: 2.3229e-04 - acc: 1.0000 - val_loss: 3.8574e-04 - val_acc: 1.0000\n",
      "\n",
      "Epoch 00023: ReduceLROnPlateau reducing learning rate to 1e-05.\n",
      "\n",
      "Epoch 00023: val_acc did not improve from 0.99998\n",
      "Epoch 24/50\n",
      "70000/70000 [==============================] - 18s 254us/step - loss: 2.3209e-04 - acc: 1.0000 - val_loss: 3.8562e-04 - val_acc: 1.0000\n",
      "\n",
      "Epoch 00024: val_acc did not improve from 0.99998\n",
      "Epoch 25/50\n",
      "70000/70000 [==============================] - 18s 254us/step - loss: 2.3198e-04 - acc: 1.0000 - val_loss: 3.8548e-04 - val_acc: 1.0000\n",
      "\n",
      "Epoch 00025: val_acc did not improve from 0.99998\n",
      "Epoch 26/50\n",
      "15200/70000 [=====>........................] - ETA: 11s - loss: 1.6688e-06 - acc: 1.0000"
     ]
    }
   ],
   "source": [
    "history = model.fit(X_train, \n",
    "                    y_train, \n",
    "                    batch_size = 100, \n",
    "                    epochs = 50,\n",
    "                    validation_data = (X_val, y_val),  \n",
    "                    callbacks = callbacks,\n",
    "                    verbose = 1, \n",
    "                    shuffle = True)"
   ]
  },
  {
   "cell_type": "markdown",
   "metadata": {},
   "source": [
    "Now we predict the results "
   ]
  },
  {
   "cell_type": "code",
   "execution_count": 12,
   "metadata": {},
   "outputs": [],
   "source": [
    "test_labels = model.predict_classes(X_test, verbose = 2)"
   ]
  },
  {
   "cell_type": "code",
   "execution_count": 13,
   "metadata": {},
   "outputs": [],
   "source": [
    "sub = pd.read_csv('../input/sample_submission.csv')\n",
    "sub['Label'] = test_labels\n",
    "sub.to_csv('submission.csv',index = False)"
   ]
  }
 ],
 "metadata": {
  "kernelspec": {
   "display_name": "Python 3",
   "language": "python",
   "name": "python3"
  },
  "language_info": {
   "codemirror_mode": {
    "name": "ipython",
    "version": 3
   },
   "file_extension": ".py",
   "mimetype": "text/x-python",
   "name": "python",
   "nbconvert_exporter": "python",
   "pygments_lexer": "ipython3",
   "version": "3.6.6"
  }
 },
 "nbformat": 4,
 "nbformat_minor": 1
}
