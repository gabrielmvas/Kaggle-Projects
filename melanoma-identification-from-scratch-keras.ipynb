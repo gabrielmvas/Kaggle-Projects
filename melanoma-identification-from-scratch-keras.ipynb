{
 "cells": [
  {
   "cell_type": "code",
   "execution_count": 1,
   "metadata": {
    "_cell_guid": "79c7e3d0-c299-4dcb-8224-4455121ee9b0",
    "_uuid": "d629ff2d2480ee46fbb7e2d37f6b5fab8052498a"
   },
   "outputs": [
    {
     "name": "stderr",
     "output_type": "stream",
     "text": [
      "Using TensorFlow backend.\n"
     ]
    }
   ],
   "source": [
    "from keras.models import Model, Sequential\n",
    "from keras.layers import Dense, Dropout, Convolution2D, BatchNormalization, DepthwiseConv2D, Activation, Conv2D\n",
    "from keras.layers.pooling import GlobalAveragePooling2D\n",
    "from keras.preprocessing.image import ImageDataGenerator\n",
    "from keras.optimizers import Adam\n",
    "from keras.callbacks import ReduceLROnPlateau, ModelCheckpoint, EarlyStopping\n",
    "import numpy as np\n",
    "import itertools\n",
    "from sklearn.metrics import confusion_matrix\n",
    "import matplotlib.pyplot as plt"
   ]
  },
  {
   "cell_type": "code",
   "execution_count": 2,
   "metadata": {},
   "outputs": [],
   "source": [
    "def plot_confusion_matrix(cm, classes, normalize = False, title = 'Confusion matrix', cmap = plt.cm.Blues):\n",
    "    if normalize:\n",
    "        cm = cm.astype('float') / cm.sum(axis=1)[:, np.newaxis]\n",
    "        print(\"Normalized confusion matrix\")\n",
    "    else:\n",
    "        print('Confusion matrix, without normalization')\n",
    "\n",
    "    print(cm)\n",
    "\n",
    "    plt.imshow(cm, interpolation='nearest', cmap=cmap)\n",
    "    plt.title(title)\n",
    "    plt.colorbar()\n",
    "    tick_marks = np.arange(len(classes))\n",
    "    plt.xticks(tick_marks, classes, rotation=45)\n",
    "    plt.yticks(tick_marks, classes)\n",
    "\n",
    "    fmt = '.2f' if normalize else 'd'\n",
    "    thresh = cm.max() / 2.\n",
    "    for i, j in itertools.product(range(cm.shape[0]), range(cm.shape[1])):\n",
    "        plt.text(j, i, format(cm[i, j], fmt),\n",
    "                 horizontalalignment=\"center\",\n",
    "                 color=\"white\" if cm[i, j] > thresh else \"black\")\n",
    "\n",
    "    plt.ylabel('True label')\n",
    "    plt.xlabel('Predicted label')\n",
    "    plt.tight_layout()\n",
    "\n",
    "def plot_training_curves(history):\n",
    "    acc = history.history['acc']\n",
    "    val_acc = history.history['val_acc']\n",
    "    loss = history.history['loss']\n",
    "    val_loss = history.history['val_loss']\n",
    "    \n",
    "    epochs = range(1, len(acc) + 1)\n",
    "    \n",
    "    plt.plot(epochs, loss, 'r', label='Training loss')\n",
    "    plt.plot(epochs, val_loss, 'g', label='Validation loss')\n",
    "    plt.title('Training and validation loss')\n",
    "    plt.legend()\n",
    "    plt.figure()\n",
    "    \n",
    "    plt.plot(epochs, acc, 'r', label='Training acc')\n",
    "    plt.plot(epochs, val_acc, 'g', label='Validation acc')\n",
    "    plt.title('Training and validation accuracy')\n",
    "    plt.legend()\n",
    "    plt.figure()\n",
    "    \n",
    "    plt.show()\n",
    "\n",
    "def save_model(model, file_path):\n",
    "    model_json = model.to_json()\n",
    "    with open('model.json', 'w') as json_file:\n",
    "        json_file.write(model_json)    \n",
    "\n",
    "def print_results(cm):\n",
    "    tp = cm[0, 0]\n",
    "    tn = cm[1, 1]\n",
    "    fn = cm[0, 1]\n",
    "    fp = cm[1, 0]\n",
    "    \n",
    "    acc = ((tp + tn) / (tp + tn + fp + fn)) * 100\n",
    "    \n",
    "    sen = (tp / (tp + fn)) * 100\n",
    "    \n",
    "    spe = (tn / ( tn + fp )) * 100\n",
    "    \n",
    "    print ('Accuracy: ',  acc)\n",
    "\n",
    "    print ('Sensitivity: ', sen)\n",
    "    \n",
    "    print ('Sensibility: ',  spe)"
   ]
  },
  {
   "cell_type": "code",
   "execution_count": 3,
   "metadata": {},
   "outputs": [],
   "source": [
    "def create_model():\n",
    "    model = Sequential()\n",
    "    \n",
    "    model.add(Conv2D(32, (3, 3), strides = (2, 2), padding = 'same', use_bias = False, input_shape = (224, 224, 3)))\n",
    "    model.add(BatchNormalization())\n",
    "    model.add(Activation('relu'))\n",
    "    \n",
    "    model.add(DepthwiseConv2D(kernel_size = (3, 3), strides = (1, 1), padding = 'same', use_bias = False))\n",
    "    model.add(BatchNormalization())\n",
    "    model.add(Activation('relu'))\n",
    "    model.add(Conv2D(64, (1, 1), strides = (1, 1), padding = 'same', use_bias = False))\n",
    "    model.add(BatchNormalization())\n",
    "    model.add(Activation('relu'))\n",
    "    \n",
    "    model.add(DepthwiseConv2D(kernel_size = (3, 3), strides = (2, 2), padding = 'same', use_bias = False))\n",
    "    model.add(BatchNormalization())\n",
    "    model.add(Activation('relu'))\n",
    "    model.add(Conv2D(128, (1, 1), strides = (1, 1), padding = 'same', use_bias = False))\n",
    "    model.add(BatchNormalization())\n",
    "    model.add(Activation('relu'))\n",
    "    \n",
    "    model.add(DepthwiseConv2D(kernel_size = (3, 3), strides = (1, 1), padding = 'same', use_bias = False))\n",
    "    model.add(BatchNormalization())\n",
    "    model.add(Activation('relu'))\n",
    "    model.add(Conv2D(128, (1, 1), strides = (1, 1), padding = 'same', use_bias = False))\n",
    "    model.add(BatchNormalization())\n",
    "    model.add(Activation('relu'))\n",
    "    \n",
    "    model.add(DepthwiseConv2D(kernel_size = (3, 3), strides = (2, 2), padding = 'same', use_bias = False))\n",
    "    model.add(BatchNormalization())\n",
    "    model.add(Activation('relu'))\n",
    "    model.add(Conv2D(256, (1, 1), strides = (1, 1), padding = 'same', use_bias = False))\n",
    "    model.add(BatchNormalization())\n",
    "    model.add(Activation('relu'))\n",
    "    \n",
    "    model.add(DepthwiseConv2D(kernel_size = (3, 3), strides = (1, 1), padding = 'same', use_bias = False))\n",
    "    model.add(BatchNormalization())\n",
    "    model.add(Activation('relu'))\n",
    "    model.add(Conv2D(256, (1, 1), strides = (1, 1), padding = 'same', use_bias = False))\n",
    "    model.add(BatchNormalization())\n",
    "    model.add(Activation('relu'))\n",
    "    \n",
    "    model.add(DepthwiseConv2D(kernel_size = (3, 3), strides = (2, 2), padding = 'same', use_bias = False))\n",
    "    model.add(BatchNormalization())\n",
    "    model.add(Activation('relu'))\n",
    "    model.add(Conv2D(512, (1, 1), strides = (1, 1), padding = 'same', use_bias = False))\n",
    "    model.add(BatchNormalization())\n",
    "    model.add(Activation('relu'))\n",
    "    \n",
    "    model.add(DepthwiseConv2D(kernel_size = (3, 3), strides = (1, 1), padding = 'same', use_bias = False))\n",
    "    model.add(BatchNormalization())\n",
    "    model.add(Activation('relu'))\n",
    "    model.add(Conv2D(512, (1, 1), strides = (1, 1), padding = 'same', use_bias = False))\n",
    "    model.add(BatchNormalization())\n",
    "    model.add(Activation('relu'))\n",
    "    \n",
    "    model.add(DepthwiseConv2D(kernel_size = (3, 3), strides = (1, 1), padding = 'same', use_bias = False))\n",
    "    model.add(BatchNormalization())\n",
    "    model.add(Activation('relu'))\n",
    "    model.add(Conv2D(1024, (1, 1), strides = (1, 1), padding = 'same', use_bias = False))\n",
    "    model.add(BatchNormalization())\n",
    "    model.add(Activation('relu'))\n",
    "    \n",
    "    model.add(DepthwiseConv2D(kernel_size = (3, 3), strides = (1, 1), padding = 'same', use_bias = False))\n",
    "    model.add(BatchNormalization())\n",
    "    model.add(Activation('relu'))\n",
    "    model.add(Conv2D(1024, (1, 1), strides = (1, 1), padding = 'same', use_bias = False))\n",
    "    model.add(BatchNormalization())\n",
    "    model.add(Activation('relu'))\n",
    "    \n",
    "    model.add(GlobalAveragePooling2D())\n",
    "    \n",
    "    model.add(Dense(128, activation = 'relu'))\n",
    "    model.add(BatchNormalization())\n",
    "    model.add(Dropout(0.5))\n",
    "    \n",
    "    model.add(Dense(256, activation = 'relu'))\n",
    "    model.add(BatchNormalization())\n",
    "    model.add(Dropout(0.5))\n",
    "    \n",
    "    model.add(Dense(2, activation = 'softmax'))\n",
    "    \n",
    "    return model"
   ]
  },
  {
   "cell_type": "code",
   "execution_count": 4,
   "metadata": {},
   "outputs": [],
   "source": [
    "def train_model(model, train_batches, train_steps, class_weights, valid_batches, val_steps, callbacks):\n",
    "    model.compile(Adam(lr = 0.01), loss = 'categorical_crossentropy', metrics = ['accuracy'])\n",
    "    \n",
    "    history = model.fit_generator(train_batches,\n",
    "                          steps_per_epoch = train_steps,\n",
    "                          class_weight = class_weights,\n",
    "                          validation_data = valid_batches,\n",
    "                          validation_steps = val_steps,\n",
    "                          epochs = 50,\n",
    "                          verbose = 1,\n",
    "                          callbacks = callbacks)\n",
    "    \n",
    "    return history"
   ]
  },
  {
   "cell_type": "code",
   "execution_count": 5,
   "metadata": {},
   "outputs": [
    {
     "name": "stdout",
     "output_type": "stream",
     "text": [
      "Found 10682 images belonging to 2 classes.\n",
      "Found 3562 images belonging to 2 classes.\n",
      "Found 3561 images belonging to 2 classes.\n"
     ]
    }
   ],
   "source": [
    "file_path = 'weights-mobilenet.h5'\n",
    "\n",
    "callbacks = [\n",
    "        ModelCheckpoint(file_path, monitor = 'val_acc', verbose = 1, save_best_only = True, mode = 'max'),\n",
    "        ReduceLROnPlateau(monitor = 'val_loss', factor = 0.2, patience = 10, verbose = 1, mode = 'min', min_lr = 0.00001),\n",
    "        ]\n",
    "\n",
    "training_path = '../input/dermmel/DermMel/train_sep'\n",
    "validation_path = '../input/dermmel/DermMel/valid'\n",
    "test_path = '../input/dermmel/DermMel/test'\n",
    "\n",
    "num_train_samples = 10682\n",
    "num_val_samples = 3562\n",
    "num_test_samples = 3561\n",
    "\n",
    "train_batch_size = 16\n",
    "val_batch_size = 16\n",
    "test_batch_size = 16\n",
    "\n",
    "train_steps = np.ceil(num_train_samples / train_batch_size)\n",
    "val_steps = np.ceil(num_val_samples / val_batch_size)\n",
    "test_steps = np.ceil(num_val_samples / val_batch_size)\n",
    "\n",
    "class_weights = {\n",
    "        0: 4.1, # melanoma\n",
    "        1: 1.0 # non-melanoma\n",
    "}\n",
    "\n",
    "train_batches = ImageDataGenerator(rescale = 1./255, samplewise_center = True).flow_from_directory(training_path,\n",
    "                                target_size = (224, 224),\n",
    "                                batch_size = val_batch_size,\n",
    "                                class_mode = 'categorical')\n",
    "\n",
    "valid_batches = ImageDataGenerator(rescale = 1./255, samplewise_center = True).flow_from_directory(validation_path,\n",
    "                                    target_size = (224, 224),\n",
    "                                    batch_size = val_batch_size,\n",
    "                                    class_mode = 'categorical')\n",
    "\n",
    "test_batches = ImageDataGenerator(rescale = 1./255, samplewise_center = True).flow_from_directory(test_path,\n",
    "                                      target_size = (224, 224),\n",
    "                                      batch_size = test_batch_size,\n",
    "                                      class_mode = 'categorical',\n",
    "                                      shuffle = False)"
   ]
  },
  {
   "cell_type": "code",
   "execution_count": 6,
   "metadata": {},
   "outputs": [
    {
     "name": "stdout",
     "output_type": "stream",
     "text": [
      "WARNING:tensorflow:From /opt/conda/lib/python3.6/site-packages/tensorflow/python/framework/op_def_library.py:263: colocate_with (from tensorflow.python.framework.ops) is deprecated and will be removed in a future version.\n",
      "Instructions for updating:\n",
      "Colocations handled automatically by placer.\n",
      "WARNING:tensorflow:From /opt/conda/lib/python3.6/site-packages/keras/backend/tensorflow_backend.py:3445: calling dropout (from tensorflow.python.ops.nn_ops) with keep_prob is deprecated and will be removed in a future version.\n",
      "Instructions for updating:\n",
      "Please use `rate` instead of `keep_prob`. Rate should be set to `rate = 1 - keep_prob`.\n",
      "WARNING:tensorflow:From /opt/conda/lib/python3.6/site-packages/tensorflow/python/ops/math_ops.py:3066: to_int32 (from tensorflow.python.ops.math_ops) is deprecated and will be removed in a future version.\n",
      "Instructions for updating:\n",
      "Use tf.cast instead.\n",
      "Epoch 1/50\n",
      "668/668 [==============================] - 163s 244ms/step - loss: 1.3706 - acc: 0.6478 - val_loss: 0.7807 - val_acc: 0.7111\n",
      "\n",
      "Epoch 00001: val_acc improved from -inf to 0.71112, saving model to weights-mobilenet.h5\n",
      "Epoch 2/50\n",
      "668/668 [==============================] - 135s 202ms/step - loss: 0.9724 - acc: 0.6987 - val_loss: 0.6094 - val_acc: 0.7007\n",
      "\n",
      "Epoch 00002: val_acc did not improve from 0.71112\n",
      "Epoch 3/50\n",
      "668/668 [==============================] - 135s 203ms/step - loss: 0.8650 - acc: 0.7239 - val_loss: 1.1286 - val_acc: 0.6960\n",
      "\n",
      "Epoch 00003: val_acc did not improve from 0.71112\n",
      "Epoch 4/50\n",
      "668/668 [==============================] - 135s 203ms/step - loss: 0.6774 - acc: 0.7921 - val_loss: 0.2894 - val_acc: 0.8894\n",
      "\n",
      "Epoch 00004: val_acc improved from 0.71112 to 0.88939, saving model to weights-mobilenet.h5\n",
      "Epoch 5/50\n",
      "668/668 [==============================] - 136s 203ms/step - loss: 0.4955 - acc: 0.8475 - val_loss: 0.2016 - val_acc: 0.8987\n",
      "\n",
      "Epoch 00005: val_acc improved from 0.88939 to 0.89865, saving model to weights-mobilenet.h5\n",
      "Epoch 6/50\n",
      "668/668 [==============================] - 133s 199ms/step - loss: 0.4828 - acc: 0.8509 - val_loss: 0.2107 - val_acc: 0.9163\n",
      "\n",
      "Epoch 00006: val_acc improved from 0.89865 to 0.91634, saving model to weights-mobilenet.h5\n",
      "Epoch 7/50\n",
      "668/668 [==============================] - 135s 202ms/step - loss: 0.4999 - acc: 0.8410 - val_loss: 0.3712 - val_acc: 0.8358\n",
      "\n",
      "Epoch 00007: val_acc did not improve from 0.91634\n",
      "Epoch 8/50\n",
      "668/668 [==============================] - 135s 202ms/step - loss: 0.4904 - acc: 0.8499 - val_loss: 0.2396 - val_acc: 0.8706\n",
      "\n",
      "Epoch 00008: val_acc did not improve from 0.91634\n",
      "Epoch 9/50\n",
      "620/668 [==========================>...] - ETA: 7s - loss: 0.4519 - acc: 0.8538"
     ]
    }
   ],
   "source": [
    "model = create_model()\n",
    "\n",
    "history = train_model(model, train_batches, train_steps, class_weights, valid_batches, val_steps, callbacks)\n",
    "\n",
    "save_model(model, file_path)\n",
    "model.load_weights(file_path)\n",
    "\n",
    "test_labels = test_batches.classes\n",
    "\n",
    "predictions = model.predict_generator(test_batches, steps = val_steps, verbose = 1)\n",
    "\n",
    "cm = confusion_matrix(test_labels, predictions.argmax(axis=1))"
   ]
  },
  {
   "cell_type": "code",
   "execution_count": 7,
   "metadata": {},
   "outputs": [
    {
     "name": "stdout",
     "output_type": "stream",
     "text": [
      "Confusion matrix, without normalization\n",
      "[[1554  227]\n",
      " [  12 1768]]\n"
     ]
    },
    {
     "data": {
      "image/png": "[encoded data removed]",
      "text/plain": [
       "<Figure size 432x288 with 2 Axes>"
      ]
     },
     "metadata": {},
     "output_type": "display_data"
    }
   ],
   "source": [
    "plot_confusion_matrix(cm, ['melanoma', 'non-melanoma'])"
   ]
  },
  {
   "cell_type": "code",
   "execution_count": 8,
   "metadata": {},
   "outputs": [
    {
     "name": "stdout",
     "output_type": "stream",
     "text": [
      "Accuracy:  93.28840213423196\n",
      "Sensitivity:  87.25435148792813\n",
      "Sensibility:  99.32584269662922\n"
     ]
    }
   ],
   "source": [
    "print_results(cm)"
   ]
  },
  {
   "cell_type": "code",
   "execution_count": 9,
   "metadata": {},
   "outputs": [
    {
     "data": {
      "image/png": "[encoded data removed]",
      "text/plain": [
       "<Figure size 432x288 with 1 Axes>"
      ]
     },
     "metadata": {},
     "output_type": "display_data"
    },
    {
     "data": {
      "image/png": "[encoded data removed]",
      "text/plain": [
       "<Figure size 432x288 with 1 Axes>"
      ]
     },
     "metadata": {},
     "output_type": "display_data"
    },
    {
     "data": {
      "text/plain": [
       "<Figure size 432x288 with 0 Axes>"
      ]
     },
     "metadata": {},
     "output_type": "display_data"
    }
   ],
   "source": [
    "plot_training_curves(history)"
   ]
  }
 ],
 "metadata": {
  "kernelspec": {
   "display_name": "Python 3",
   "language": "python",
   "name": "python3"
  },
  "language_info": {
   "codemirror_mode": {
    "name": "ipython",
    "version": 3
   },
   "file_extension": ".py",
   "mimetype": "text/x-python",
   "name": "python",
   "nbconvert_exporter": "python",
   "pygments_lexer": "ipython3",
   "version": "3.6.4"
  }
 },
 "nbformat": 4,
 "nbformat_minor": 1
}
