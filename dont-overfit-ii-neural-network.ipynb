{
 "cells": [
  {
   "cell_type": "code",
   "execution_count": 1,
   "metadata": {
    "_cell_guid": "b1076dfc-b9ad-4769-8c92-a6c4dae69d19",
    "_uuid": "8f2839f25d086af736a60e9eeb907d3b93b6e0e5"
   },
   "outputs": [
    {
     "name": "stderr",
     "output_type": "stream",
     "text": [
      "Using TensorFlow backend.\n"
     ]
    },
    {
     "name": "stdout",
     "output_type": "stream",
     "text": [
      "['train.csv', 'sample_submission.csv', 'test.csv']\n"
     ]
    }
   ],
   "source": [
    "import numpy as np # linear algebra\n",
    "import pandas as pd # data processing, CSV file I/O (e.g. pd.read_csv)\n",
    "\n",
    "from keras.models import Sequential\n",
    "from keras.layers import Dense, BatchNormalization, Dropout\n",
    "from keras.callbacks import ModelCheckpoint, EarlyStopping, ReduceLROnPlateau\n",
    "import matplotlib.pyplot as plt\n",
    "from keras.regularizers import l1, l2\n",
    "\n",
    "import os\n",
    "print(os.listdir(\"../input\"))"
   ]
  },
  {
   "cell_type": "code",
   "execution_count": 2,
   "metadata": {
    "_cell_guid": "79c7e3d0-c299-4dcb-8224-4455121ee9b0",
    "_uuid": "d629ff2d2480ee46fbb7e2d37f6b5fab8052498a"
   },
   "outputs": [],
   "source": [
    "train_data = pd.read_csv('../input/train.csv')\n",
    "test_data = pd.read_csv('../input/test.csv')"
   ]
  },
  {
   "cell_type": "code",
   "execution_count": 3,
   "metadata": {},
   "outputs": [],
   "source": [
    "x_train = train_data.drop(['id', 'target'], axis = 1)\n",
    "y_train = train_data['target']"
   ]
  },
  {
   "cell_type": "code",
   "execution_count": 4,
   "metadata": {},
   "outputs": [],
   "source": [
    "del train_data"
   ]
  },
  {
   "cell_type": "code",
   "execution_count": 5,
   "metadata": {},
   "outputs": [],
   "source": [
    "test_data = test_data.drop(['id'], axis = 1)"
   ]
  },
  {
   "cell_type": "code",
   "execution_count": 6,
   "metadata": {},
   "outputs": [
    {
     "data": {
      "text/plain": [
       "1.0    160\n",
       "0.0     90\n",
       "Name: target, dtype: int64"
      ]
     },
     "execution_count": 6,
     "metadata": {},
     "output_type": "execute_result"
    }
   ],
   "source": [
    "y_train.value_counts()"
   ]
  },
  {
   "cell_type": "code",
   "execution_count": 7,
   "metadata": {},
   "outputs": [
    {
     "data": {
      "text/plain": [
       "(250, 300)"
      ]
     },
     "execution_count": 7,
     "metadata": {},
     "output_type": "execute_result"
    }
   ],
   "source": [
    "x_train.shape"
   ]
  },
  {
   "cell_type": "code",
   "execution_count": 8,
   "metadata": {},
   "outputs": [],
   "source": [
    "def create_model():\n",
    "    model = Sequential()\n",
    "    \n",
    "    model.add(Dense(300, input_shape = (300,)))\n",
    "    \n",
    "    model.add(Dense(512, activation = 'relu', use_bias = True))\n",
    "    model.add(BatchNormalization())\n",
    "    model.add(Dropout(0.5))\n",
    "    \n",
    "    model.add(Dense(256, activation = 'relu', use_bias = True))\n",
    "    model.add(BatchNormalization())\n",
    "    model.add(Dropout(0.5))\n",
    "    \n",
    "    model.add(Dense(128, activation = 'relu', use_bias = True))\n",
    "    model.add(BatchNormalization())\n",
    "    model.add(Dropout(0.5))\n",
    "    \n",
    "    model.add(Dense(1, activation = 'sigmoid'))\n",
    "    \n",
    "    return model\n",
    "\n",
    "def train_model(model, x_train, y_train, train_step_size, callbacks):\n",
    "    \n",
    "    model.compile(optimizer = 'rmsprop', loss = 'binary_crossentropy', metrics = ['accuracy'])\n",
    "    \n",
    "    history = model.fit(x_train, \n",
    "                        y_train,\n",
    "                        epochs = 50,\n",
    "                        steps_per_epoch = train_step_size,\n",
    "                        verbose = 1,\n",
    "                        callbacks = callbacks)\n",
    "    return history"
   ]
  },
  {
   "cell_type": "code",
   "execution_count": 9,
   "metadata": {},
   "outputs": [],
   "source": [
    "weights_file_path = 'dont-overfit-weights.h5'\n",
    "\n",
    "reduce_learning_rate = ReduceLROnPlateau(monitor = 'acc', patience = 3, verbose = 1, factor = 0.75, min_lr = 0.00001)\n",
    "checkpoint = ModelCheckpoint(weights_file_path, monitor = 'acc', verbose = 1, save_best_only = True, mode = 'max')\n",
    "early_stopping = EarlyStopping(monitor = 'loss', min_delta = 1e-10, patience = 10, verbose = 1, restore_best_weights = True)\n",
    "\n",
    "callbacks = [reduce_learning_rate, checkpoint, early_stopping]\n",
    "\n",
    "batch_size = 8\n",
    "\n",
    "train_step_size = x_train.shape[0] // batch_size"
   ]
  },
  {
   "cell_type": "code",
   "execution_count": 10,
   "metadata": {},
   "outputs": [
    {
     "name": "stdout",
     "output_type": "stream",
     "text": [
      "WARNING:tensorflow:From /opt/conda/lib/python3.6/site-packages/tensorflow/python/framework/op_def_library.py:263: colocate_with (from tensorflow.python.framework.ops) is deprecated and will be removed in a future version.\n",
      "Instructions for updating:\n",
      "Colocations handled automatically by placer.\n",
      "WARNING:tensorflow:From /opt/conda/lib/python3.6/site-packages/keras/backend/tensorflow_backend.py:3445: calling dropout (from tensorflow.python.ops.nn_ops) with keep_prob is deprecated and will be removed in a future version.\n",
      "Instructions for updating:\n",
      "Please use `rate` instead of `keep_prob`. Rate should be set to `rate = 1 - keep_prob`.\n",
      "WARNING:tensorflow:From /opt/conda/lib/python3.6/site-packages/tensorflow/python/ops/math_ops.py:3066: to_int32 (from tensorflow.python.ops.math_ops) is deprecated and will be removed in a future version.\n",
      "Instructions for updating:\n",
      "Use tf.cast instead.\n",
      "Epoch 1/50\n",
      "31/31 [==============================] - 2s 67ms/step - loss: 0.2673 - acc: 0.8794\n",
      "\n",
      "Epoch 00001: acc improved from -inf to 0.87935, saving model to dont-overfit-weights.h5\n",
      "Epoch 2/50\n",
      "31/31 [==============================] - 0s 6ms/step - loss: 0.0157 - acc: 0.9977\n",
      "\n",
      "Epoch 00002: acc improved from 0.87935 to 0.99768, saving model to dont-overfit-weights.h5\n",
      "Epoch 3/50\n",
      "31/31 [==============================] - 0s 7ms/step - loss: 0.0024 - acc: 1.0000\n",
      "\n",
      "Epoch 00003: acc improved from 0.99768 to 1.00000, saving model to dont-overfit-weights.h5\n",
      "Epoch 4/50\n",
      "31/31 [==============================] - 0s 6ms/step - loss: 7.0444e-04 - acc: 1.0000\n",
      "\n",
      "Epoch 00004: acc did not improve from 1.00000\n",
      "Epoch 5/50\n",
      "31/31 [==============================] - 0s 6ms/step - loss: 1.8884e-04 - acc: 1.0000\n",
      "\n",
      "Epoch 00005: acc did not improve from 1.00000\n",
      "Epoch 6/50\n",
      "31/31 [==============================] - 0s 7ms/step - loss: 4.4697e-05 - acc: 1.0000\n",
      "\n",
      "Epoch 00006: ReduceLROnPlateau reducing learning rate to 0.0007500000356230885.\n",
      "\n",
      "Epoch 00006: acc did not improve from 1.00000\n",
      "Epoch 7/50\n",
      "31/31 [==============================] - 0s 6ms/step - loss: 1.3600e-05 - acc: 1.0000\n",
      "\n",
      "Epoch 00007: acc did not improve from 1.00000\n",
      "Epoch 8/50\n",
      "31/31 [==============================] - 0s 6ms/step - loss: 4.2339e-06 - acc: 1.0000\n",
      "\n",
      "Epoch 00008: acc did not improve from 1.00000\n",
      "Epoch 9/50\n",
      "31/31 [==============================] - 0s 6ms/step - loss: 2.0194e-06 - acc: 1.0000\n",
      "\n",
      "Epoch 00009: ReduceLROnPlateau reducing learning rate to 0.0005625000048894435.\n",
      "\n",
      "Epoch 00009: acc did not improve from 1.00000\n",
      "Epoch 10/50\n",
      "31/31 [==============================] - 0s 6ms/step - loss: 7.5024e-07 - acc: 1.0000\n",
      "\n",
      "Epoch 00010: acc did not improve from 1.00000\n",
      "Epoch 11/50\n",
      "31/31 [==============================] - 0s 6ms/step - loss: 4.9204e-07 - acc: 1.0000\n",
      "\n",
      "Epoch 00011: acc did not improve from 1.00000\n",
      "Epoch 12/50\n",
      "31/31 [==============================] - 0s 7ms/step - loss: 3.9974e-07 - acc: 1.0000\n",
      "\n",
      "Epoch 00012: ReduceLROnPlateau reducing learning rate to 0.0004218749818392098.\n",
      "\n",
      "Epoch 00012: acc did not improve from 1.00000\n",
      "Epoch 13/50\n",
      "31/31 [==============================] - 0s 6ms/step - loss: 2.9906e-07 - acc: 1.0000\n",
      "\n",
      "Epoch 00013: acc did not improve from 1.00000\n",
      "Epoch 14/50\n",
      "31/31 [==============================] - 0s 6ms/step - loss: 2.3831e-07 - acc: 1.0000\n",
      "\n",
      "Epoch 00014: acc did not improve from 1.00000\n",
      "Epoch 15/50\n",
      "31/31 [==============================] - 0s 6ms/step - loss: 2.0334e-07 - acc: 1.0000\n",
      "\n",
      "Epoch 00015: ReduceLROnPlateau reducing learning rate to 0.00031640623637940735.\n",
      "\n",
      "Epoch 00015: acc did not improve from 1.00000\n",
      "Epoch 16/50\n",
      "31/31 [==============================] - 0s 7ms/step - loss: 1.5917e-07 - acc: 1.0000\n",
      "\n",
      "Epoch 00016: acc did not improve from 1.00000\n",
      "Epoch 17/50\n",
      "31/31 [==============================] - 0s 7ms/step - loss: 1.8208e-07 - acc: 1.0000\n",
      "\n",
      "Epoch 00017: acc did not improve from 1.00000\n",
      "Epoch 18/50\n",
      "31/31 [==============================] - 0s 6ms/step - loss: 1.7752e-07 - acc: 1.0000\n",
      "\n",
      "Epoch 00018: ReduceLROnPlateau reducing learning rate to 0.00023730468819849193.\n",
      "\n",
      "Epoch 00018: acc did not improve from 1.00000\n",
      "Epoch 19/50\n",
      "31/31 [==============================] - 0s 6ms/step - loss: 1.5742e-07 - acc: 1.0000\n",
      "\n",
      "Epoch 00019: acc did not improve from 1.00000\n",
      "Epoch 20/50\n",
      "31/31 [==============================] - 0s 6ms/step - loss: 1.3975e-07 - acc: 1.0000\n",
      "\n",
      "Epoch 00020: acc did not improve from 1.00000\n",
      "Epoch 21/50\n",
      "31/31 [==============================] - 0s 6ms/step - loss: 1.4513e-07 - acc: 1.0000\n",
      "\n",
      "Epoch 00021: ReduceLROnPlateau reducing learning rate to 0.00017797851614886895.\n",
      "\n",
      "Epoch 00021: acc did not improve from 1.00000\n",
      "Epoch 22/50\n",
      "31/31 [==============================] - 0s 6ms/step - loss: 1.5587e-07 - acc: 1.0000\n",
      "\n",
      "Epoch 00022: acc did not improve from 1.00000\n",
      "Epoch 23/50\n",
      "31/31 [==============================] - 0s 7ms/step - loss: 1.8834e-07 - acc: 1.0000\n",
      "\n",
      "Epoch 00023: acc did not improve from 1.00000\n",
      "Epoch 24/50\n",
      "31/31 [==============================] - 0s 6ms/step - loss: 1.4538e-07 - acc: 1.0000\n",
      "\n",
      "Epoch 00024: ReduceLROnPlateau reducing learning rate to 0.0001334838816546835.\n",
      "\n",
      "Epoch 00024: acc did not improve from 1.00000\n",
      "Epoch 25/50\n",
      "31/31 [==============================] - 0s 7ms/step - loss: 1.2994e-07 - acc: 1.0000\n",
      "\n",
      "Epoch 00025: acc did not improve from 1.00000\n",
      "Epoch 26/50\n",
      "31/31 [==============================] - 0s 6ms/step - loss: 1.2603e-07 - acc: 1.0000\n",
      "\n",
      "Epoch 00026: acc did not improve from 1.00000\n",
      "Epoch 27/50\n",
      "31/31 [==============================] - 0s 6ms/step - loss: 1.4298e-07 - acc: 1.0000\n",
      "\n",
      "Epoch 00027: ReduceLROnPlateau reducing learning rate to 0.00010011290578404441.\n",
      "\n",
      "Epoch 00027: acc did not improve from 1.00000\n",
      "Epoch 28/50\n",
      "31/31 [==============================] - 0s 6ms/step - loss: 1.4268e-07 - acc: 1.0000\n",
      "\n",
      "Epoch 00028: acc did not improve from 1.00000\n",
      "Epoch 29/50\n",
      "31/31 [==============================] - 0s 7ms/step - loss: 1.3997e-07 - acc: 1.0000\n",
      "\n",
      "Epoch 00029: acc did not improve from 1.00000\n",
      "Epoch 30/50\n",
      "31/31 [==============================] - 0s 6ms/step - loss: 1.4130e-07 - acc: 1.0000\n",
      "\n",
      "Epoch 00030: ReduceLROnPlateau reducing learning rate to 7.508467933803331e-05.\n",
      "\n",
      "Epoch 00030: acc did not improve from 1.00000\n",
      "Epoch 31/50\n",
      "31/31 [==============================] - 0s 6ms/step - loss: 1.4113e-07 - acc: 1.0000\n",
      "\n",
      "Epoch 00031: acc did not improve from 1.00000\n",
      "Epoch 32/50\n",
      "31/31 [==============================] - 0s 6ms/step - loss: 1.3747e-07 - acc: 1.0000\n",
      "\n",
      "Epoch 00032: acc did not improve from 1.00000\n",
      "Epoch 33/50\n",
      "31/31 [==============================] - 0s 6ms/step - loss: 1.3457e-07 - acc: 1.0000\n",
      "\n",
      "Epoch 00033: ReduceLROnPlateau reducing learning rate to 5.6313510867767036e-05.\n",
      "\n",
      "Epoch 00033: acc did not improve from 1.00000\n",
      "Epoch 34/50\n",
      "31/31 [==============================] - 0s 6ms/step - loss: 1.2916e-07 - acc: 1.0000\n",
      "\n",
      "Epoch 00034: acc did not improve from 1.00000\n",
      "Epoch 35/50\n",
      "31/31 [==============================] - 0s 6ms/step - loss: 1.2713e-07 - acc: 1.0000\n",
      "\n",
      "Epoch 00035: acc did not improve from 1.00000\n",
      "Epoch 36/50\n",
      "31/31 [==============================] - 0s 6ms/step - loss: 1.2655e-07 - acc: 1.0000\n",
      "\n",
      "Epoch 00036: ReduceLROnPlateau reducing learning rate to 4.223513315082528e-05.\n",
      "\n",
      "Epoch 00036: acc did not improve from 1.00000\n",
      "Restoring model weights from the end of the best epoch\n",
      "Epoch 00036: early stopping\n"
     ]
    }
   ],
   "source": [
    "model = create_model()\n",
    "\n",
    "history = train_model(model, x_train, y_train, train_step_size, callbacks)"
   ]
  },
  {
   "cell_type": "code",
   "execution_count": 11,
   "metadata": {},
   "outputs": [],
   "source": [
    "predict_model = create_model()\n",
    "predict_model.load_weights(weights_file_path)\n",
    "\n",
    "predictions = predict_model.predict(test_data)"
   ]
  },
  {
   "cell_type": "code",
   "execution_count": 12,
   "metadata": {},
   "outputs": [],
   "source": [
    "def plot_training_curves(history):\n",
    "    acc = history.history['acc']\n",
    "    loss = history.history['loss']\n",
    "    \n",
    "    epochs = range(1, len(acc) + 1)\n",
    "    \n",
    "    plt.plot(epochs, loss, 'r', label='Training loss')\n",
    "    plt.title('Training loss')\n",
    "    plt.legend()\n",
    "    plt.figure()\n",
    "    \n",
    "    plt.plot(epochs, acc, 'r', label='Training acc')\n",
    "    plt.title('Training accuracy')\n",
    "    plt.legend()\n",
    "    plt.figure()\n",
    "    \n",
    "    plt.show()"
   ]
  },
  {
   "cell_type": "code",
   "execution_count": 13,
   "metadata": {},
   "outputs": [
    {
     "data": {
      "image/png": "[encoded data removed]",
      "text/plain": [
       "<Figure size 432x288 with 1 Axes>"
      ]
     },
     "metadata": {},
     "output_type": "display_data"
    },
    {
     "data": {
      "image/png": "[encoded data removed]",
      "text/plain": [
       "<Figure size 432x288 with 1 Axes>"
      ]
     },
     "metadata": {},
     "output_type": "display_data"
    },
    {
     "data": {
      "text/plain": [
       "<Figure size 432x288 with 0 Axes>"
      ]
     },
     "metadata": {},
     "output_type": "display_data"
    }
   ],
   "source": [
    "plot_training_curves(history)"
   ]
  },
  {
   "cell_type": "code",
   "execution_count": 14,
   "metadata": {},
   "outputs": [],
   "source": [
    "ps = []\n",
    "for i, value in enumerate(predictions):\n",
    "    ps.append(value[0])\n",
    "\n",
    "#predictions = np.argmax(predictions, axis = 1)\n",
    "\n",
    "predictions = pd.Series(ps, name = \"target\")\n",
    "\n",
    "submission = pd.concat([pd.Series(range(250, 20000), name = \"id\"), predictions], axis = 1)\n",
    "\n",
    "submission.to_csv(\"dont-overfit-submission.csv\", index = False)"
   ]
  },
  {
   "cell_type": "code",
   "execution_count": 15,
   "metadata": {},
   "outputs": [
    {
     "name": "stdout",
     "output_type": "stream",
     "text": [
      "0.6277522719607879\n"
     ]
    }
   ],
   "source": [
    "print(submission['target'].sum() / len(submission))"
   ]
  }
 ],
 "metadata": {
  "kernelspec": {
   "display_name": "Python 3",
   "language": "python",
   "name": "python3"
  },
  "language_info": {
   "codemirror_mode": {
    "name": "ipython",
    "version": 3
   },
   "file_extension": ".py",
   "mimetype": "text/x-python",
   "name": "python",
   "nbconvert_exporter": "python",
   "pygments_lexer": "ipython3",
   "version": "3.6.4"
  }
 },
 "nbformat": 4,
 "nbformat_minor": 1
}
