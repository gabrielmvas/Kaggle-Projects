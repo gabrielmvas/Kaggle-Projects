{
 "cells": [
  {
   "cell_type": "code",
   "execution_count": 1,
   "metadata": {
    "_cell_guid": "b1076dfc-b9ad-4769-8c92-a6c4dae69d19",
    "_uuid": "8f2839f25d086af736a60e9eeb907d3b93b6e0e5"
   },
   "outputs": [
    {
     "name": "stderr",
     "output_type": "stream",
     "text": [
      "Using TensorFlow backend.\n"
     ]
    }
   ],
   "source": [
    "from keras.models import Sequential\n",
    "from keras.layers import Conv2D, Dense, Flatten, BatchNormalization, Dropout, LeakyReLU, DepthwiseConv2D, Flatten\n",
    "from keras.layers.pooling import GlobalAveragePooling2D\n",
    "from keras.optimizers import Adam\n",
    "from keras.callbacks import ReduceLROnPlateau, ModelCheckpoint, EarlyStopping\n",
    "\n",
    "from sklearn.metrics import confusion_matrix, roc_auc_score, classification_report\n",
    "from sklearn.model_selection import train_test_split\n",
    "\n",
    "from tqdm import tqdm, tqdm_notebook\n",
    "\n",
    "import numpy as np\n",
    "import pandas as pd\n",
    "import cv2 as cv\n",
    "import seaborn as sns\n",
    "import matplotlib.pyplot as plt\n",
    "\n",
    "import os"
   ]
  },
  {
   "cell_type": "code",
   "execution_count": 2,
   "metadata": {},
   "outputs": [
    {
     "data": {
      "text/plain": [
       "['train', 'test', 'train.csv', 'sample_submission.csv']"
      ]
     },
     "execution_count": 2,
     "metadata": {},
     "output_type": "execute_result"
    }
   ],
   "source": [
    "os.listdir('../input')"
   ]
  },
  {
   "cell_type": "code",
   "execution_count": 3,
   "metadata": {},
   "outputs": [],
   "source": [
    "train_data = pd.read_csv('../input/train.csv')"
   ]
  },
  {
   "cell_type": "code",
   "execution_count": 4,
   "metadata": {},
   "outputs": [
    {
     "data": {
      "text/html": [
       "<div>\n",
       "<style scoped>\n",
       "    .dataframe tbody tr th:only-of-type {\n",
       "        vertical-align: middle;\n",
       "    }\n",
       "\n",
       "    .dataframe tbody tr th {\n",
       "        vertical-align: top;\n",
       "    }\n",
       "\n",
       "    .dataframe thead th {\n",
       "        text-align: right;\n",
       "    }\n",
       "</style>\n",
       "<table border=\"1\" class=\"dataframe\">\n",
       "  <thead>\n",
       "    <tr style=\"text-align: right;\">\n",
       "      <th></th>\n",
       "      <th>id</th>\n",
       "      <th>has_cactus</th>\n",
       "    </tr>\n",
       "  </thead>\n",
       "  <tbody>\n",
       "    <tr>\n",
       "      <th>0</th>\n",
       "      <td>0004be2cfeaba1c0361d39e2b000257b.jpg</td>\n",
       "      <td>1</td>\n",
       "    </tr>\n",
       "    <tr>\n",
       "      <th>1</th>\n",
       "      <td>000c8a36845c0208e833c79c1bffedd1.jpg</td>\n",
       "      <td>1</td>\n",
       "    </tr>\n",
       "    <tr>\n",
       "      <th>2</th>\n",
       "      <td>000d1e9a533f62e55c289303b072733d.jpg</td>\n",
       "      <td>1</td>\n",
       "    </tr>\n",
       "    <tr>\n",
       "      <th>3</th>\n",
       "      <td>0011485b40695e9138e92d0b3fb55128.jpg</td>\n",
       "      <td>1</td>\n",
       "    </tr>\n",
       "    <tr>\n",
       "      <th>4</th>\n",
       "      <td>0014d7a11e90b62848904c1418fc8cf2.jpg</td>\n",
       "      <td>1</td>\n",
       "    </tr>\n",
       "  </tbody>\n",
       "</table>\n",
       "</div>"
      ],
      "text/plain": [
       "                                     id  has_cactus\n",
       "0  0004be2cfeaba1c0361d39e2b000257b.jpg           1\n",
       "1  000c8a36845c0208e833c79c1bffedd1.jpg           1\n",
       "2  000d1e9a533f62e55c289303b072733d.jpg           1\n",
       "3  0011485b40695e9138e92d0b3fb55128.jpg           1\n",
       "4  0014d7a11e90b62848904c1418fc8cf2.jpg           1"
      ]
     },
     "execution_count": 4,
     "metadata": {},
     "output_type": "execute_result"
    }
   ],
   "source": [
    "train_data.head()"
   ]
  },
  {
   "cell_type": "code",
   "execution_count": 5,
   "metadata": {},
   "outputs": [],
   "source": [
    "def create_model():\n",
    "    model = Sequential()\n",
    "        \n",
    "    model.add(Conv2D(3, kernel_size = 3, activation = 'relu', input_shape = (32, 32, 3)))\n",
    "    \n",
    "    model.add(Conv2D(filters = 16, kernel_size = 3, activation = 'relu'))\n",
    "    model.add(Conv2D(filters = 16, kernel_size = 3, activation = 'relu'))\n",
    "    model.add(BatchNormalization())\n",
    "    model.add(Dropout(0.2))\n",
    "    \n",
    "    model.add(DepthwiseConv2D(kernel_size = 3, strides = 1, padding = 'Same', use_bias = True))\n",
    "    model.add(Conv2D(filters = 32, kernel_size = 1, activation = 'relu'))\n",
    "    model.add(Conv2D(filters = 64, kernel_size = 1, activation = 'relu'))\n",
    "    model.add(BatchNormalization())\n",
    "    model.add(Dropout(0.2))\n",
    "    \n",
    "    model.add(DepthwiseConv2D(kernel_size = 3, strides = 2, padding = 'Same', use_bias = True))\n",
    "    model.add(Conv2D(filters = 128, kernel_size = 1, activation = 'relu'))\n",
    "    model.add(Conv2D(filters = 256, kernel_size = 1, activation = 'relu'))\n",
    "    model.add(BatchNormalization())\n",
    "    model.add(Dropout(0.2))\n",
    "    \n",
    "    model.add(DepthwiseConv2D(kernel_size = 3, strides = 1, padding = 'Same', use_bias = True))\n",
    "    model.add(Conv2D(filters = 256, kernel_size = 1, activation = 'relu'))\n",
    "    model.add(BatchNormalization())\n",
    "    model.add(Conv2D(filters = 512, kernel_size = 1, activation = 'relu'))\n",
    "    model.add(BatchNormalization())\n",
    "    model.add(Dropout(0.2))\n",
    "    \n",
    "    model.add(DepthwiseConv2D(kernel_size = 3, strides = 2, padding = 'Same', use_bias = True))\n",
    "    model.add(Conv2D(filters = 512, kernel_size = 1, activation = 'relu'))\n",
    "    model.add(BatchNormalization())\n",
    "    model.add(Conv2D(filters = 1024, kernel_size = 1, activation = 'relu'))\n",
    "    model.add(BatchNormalization())\n",
    "    model.add(Dropout(0.2))\n",
    "    \n",
    "    model.add(DepthwiseConv2D(kernel_size = 3, strides = 1, padding = 'Same', use_bias = True))\n",
    "    model.add(Conv2D(filters = 1024, kernel_size = 1, activation = 'relu'))\n",
    "    model.add(BatchNormalization())\n",
    "    model.add(Conv2D(filters = 2048, kernel_size = 1, activation = 'relu'))\n",
    "    model.add(BatchNormalization())\n",
    "    model.add(Dropout(0.2))\n",
    "    \n",
    "    #model.add(GlobalAveragePooling2D())\n",
    "    model.add(Flatten())\n",
    "    \n",
    "    model.add(Dense(470, activation = 'relu'))\n",
    "    model.add(BatchNormalization())\n",
    "    model.add(Dropout(0.5))\n",
    "    \n",
    "    model.add(Dense(256, activation = 'relu'))\n",
    "    model.add(BatchNormalization())\n",
    "    model.add(Dropout(0.5))\n",
    "    \n",
    "    model.add(Dense(128, activation = 'tanh'))\n",
    "\n",
    "    model.add(Dense(1, activation = 'sigmoid'))\n",
    "\n",
    "    model.compile(optimizer = 'rmsprop', loss = 'mean_squared_error', metrics = ['accuracy'])\n",
    "    \n",
    "    return model"
   ]
  },
  {
   "cell_type": "code",
   "execution_count": 6,
   "metadata": {},
   "outputs": [],
   "source": [
    "def plot_training_curves(history):\n",
    "    acc = history.history['acc']\n",
    "    val_acc = history.history['val_acc']\n",
    "    loss = history.history['loss']\n",
    "    val_loss = history.history['val_loss']\n",
    "    \n",
    "    epochs = range(1, len(acc) + 1)\n",
    "    \n",
    "    plt.plot(epochs, loss, 'r', label='Training loss')\n",
    "    plt.plot(epochs, val_loss, 'g', label='Validation loss')\n",
    "    plt.title('Losses')\n",
    "    plt.legend()\n",
    "    plt.figure()\n",
    "    \n",
    "    plt.plot(epochs, acc, 'r', label='Training acc')\n",
    "    plt.plot(epochs, val_acc, 'g', label='Validation acc')\n",
    "    plt.title('Accuracies')\n",
    "    plt.legend()\n",
    "    plt.figure()\n",
    "    \n",
    "    plt.show()\n",
    "    "
   ]
  },
  {
   "cell_type": "code",
   "execution_count": 7,
   "metadata": {},
   "outputs": [],
   "source": [
    "file_path = 'weights-aerial-cactus.h5'\n",
    "\n",
    "callbacks = [\n",
    "        ModelCheckpoint(file_path, monitor = 'val_acc', verbose = 1, save_best_only = True, mode = 'max'),\n",
    "        ReduceLROnPlateau(monitor = 'val_loss', factor = 0.2, patience = 3, verbose = 1, mode = 'min', min_lr = 0.00001),\n",
    "        EarlyStopping(monitor = 'val_loss', min_delta = 1e-10, patience = 15, verbose = 1, restore_best_weights = True)\n",
    "        ]\n",
    "\n",
    "training_path = '../input/train/train/'\n",
    "test_path = '../input/test/test/'"
   ]
  },
  {
   "cell_type": "code",
   "execution_count": 8,
   "metadata": {},
   "outputs": [
    {
     "data": {
      "application/vnd.jupyter.widget-view+json": {
       "model_id": "02dbc3dc2fdb4b729cd265845c52ff04",
       "version_major": 2,
       "version_minor": 0
      },
      "text/plain": [
       "HBox(children=(IntProgress(value=0, max=17500), HTML(value='')))"
      ]
     },
     "metadata": {},
     "output_type": "display_data"
    },
    {
     "name": "stdout",
     "output_type": "stream",
     "text": [
      "\n"
     ]
    }
   ],
   "source": [
    "images_train = []\n",
    "labels_train = []\n",
    "\n",
    "images = train_data['id'].values\n",
    "for image_id in tqdm_notebook(images):\n",
    "    \n",
    "    image = np.array(cv.imread(training_path + image_id))\n",
    "    label = train_data[train_data['id'] == image_id]['has_cactus'].values[0]\n",
    "    \n",
    "    images_train.append(image)\n",
    "    labels_train.append(label)\n",
    "    \n",
    "    images_train.append(np.flip(image))\n",
    "    labels_train.append(label)\n",
    "    \n",
    "    images_train.append(np.flipud(image))\n",
    "    labels_train.append(label)\n",
    "    \n",
    "    images_train.append(np.fliplr(image))\n",
    "    labels_train.append(label)\n",
    "    \n",
    "    \n",
    "images_train = np.asarray(images_train)\n",
    "images_train = images_train.astype('float32')\n",
    "images_train /= 255.\n",
    "\n",
    "labels_train = np.asarray(labels_train)"
   ]
  },
  {
   "cell_type": "code",
   "execution_count": 9,
   "metadata": {},
   "outputs": [],
   "source": [
    "x_tr = images_train\n",
    "y_tr = labels_train\n",
    "\n",
    "images_train = x_tr\n",
    "labels_train = y_tr"
   ]
  },
  {
   "cell_type": "code",
   "execution_count": 10,
   "metadata": {},
   "outputs": [
    {
     "data": {
      "application/vnd.jupyter.widget-view+json": {
       "model_id": "4ee8177510eb4280abaf01b7697991bf",
       "version_major": 2,
       "version_minor": 0
      },
      "text/plain": [
       "HBox(children=(IntProgress(value=0, max=4000), HTML(value='')))"
      ]
     },
     "metadata": {},
     "output_type": "display_data"
    },
    {
     "name": "stdout",
     "output_type": "stream",
     "text": [
      "\n"
     ]
    }
   ],
   "source": [
    "test_images_names = []\n",
    "\n",
    "for filename in os.listdir(test_path):\n",
    "    test_images_names.append(filename)\n",
    "    \n",
    "test_images_names.sort()\n",
    "\n",
    "images_test = []\n",
    "\n",
    "for image_id in tqdm_notebook(test_images_names):\n",
    "    images_test.append(np.array(cv.imread(test_path + image_id)))\n",
    "    \n",
    "images_test = np.asarray(images_test)\n",
    "images_test = images_test.astype('float32')\n",
    "images_test /= 255"
   ]
  },
  {
   "cell_type": "code",
   "execution_count": 11,
   "metadata": {},
   "outputs": [],
   "source": [
    "x_train, x_test, y_train, y_test = train_test_split(images_train, labels_train, test_size = 0.2, stratify = labels_train)"
   ]
  },
  {
   "cell_type": "code",
   "execution_count": 12,
   "metadata": {},
   "outputs": [
    {
     "name": "stdout",
     "output_type": "stream",
     "text": [
      "WARNING:tensorflow:From /opt/conda/lib/python3.6/site-packages/tensorflow/python/framework/op_def_library.py:263: colocate_with (from tensorflow.python.framework.ops) is deprecated and will be removed in a future version.\n",
      "Instructions for updating:\n",
      "Colocations handled automatically by placer.\n",
      "WARNING:tensorflow:From /opt/conda/lib/python3.6/site-packages/keras/backend/tensorflow_backend.py:3445: calling dropout (from tensorflow.python.ops.nn_ops) with keep_prob is deprecated and will be removed in a future version.\n",
      "Instructions for updating:\n",
      "Please use `rate` instead of `keep_prob`. Rate should be set to `rate = 1 - keep_prob`.\n"
     ]
    }
   ],
   "source": [
    "model = create_model()"
   ]
  },
  {
   "cell_type": "code",
   "execution_count": 13,
   "metadata": {},
   "outputs": [
    {
     "name": "stdout",
     "output_type": "stream",
     "text": [
      "WARNING:tensorflow:From /opt/conda/lib/python3.6/site-packages/tensorflow/python/ops/math_ops.py:3066: to_int32 (from tensorflow.python.ops.math_ops) is deprecated and will be removed in a future version.\n",
      "Instructions for updating:\n",
      "Use tf.cast instead.\n",
      "Train on 56000 samples, validate on 14000 samples\n",
      "Epoch 1/80\n",
      "56000/56000 [==============================] - 48s 862us/step - loss: 0.0491 - acc: 0.9366 - val_loss: 0.0809 - val_acc: 0.9145\n",
      "\n",
      "Epoch 00001: val_acc improved from -inf to 0.91450, saving model to weights-aerial-cactus.h5\n",
      "Epoch 2/80\n",
      "56000/56000 [==============================] - 42s 743us/step - loss: 0.0133 - acc: 0.9832 - val_loss: 0.0453 - val_acc: 0.9516\n",
      "\n",
      "Epoch 00002: val_acc improved from 0.91450 to 0.95164, saving model to weights-aerial-cactus.h5\n",
      "Epoch 3/80\n",
      "56000/56000 [==============================] - 42s 742us/step - loss: 0.0092 - acc: 0.9886 - val_loss: 0.0244 - val_acc: 0.9714\n",
      "\n",
      "Epoch 00003: val_acc improved from 0.95164 to 0.97143, saving model to weights-aerial-cactus.h5\n",
      "Epoch 4/80\n",
      "56000/56000 [==============================] - 42s 742us/step - loss: 0.0069 - acc: 0.9916 - val_loss: 0.0149 - val_acc: 0.9834\n",
      "\n",
      "Epoch 00004: val_acc improved from 0.97143 to 0.98336, saving model to weights-aerial-cactus.h5\n",
      "Epoch 5/80\n",
      "56000/56000 [==============================] - 42s 742us/step - loss: 0.0056 - acc: 0.9931 - val_loss: 0.0235 - val_acc: 0.9736\n",
      "\n",
      "Epoch 00005: val_acc did not improve from 0.98336\n",
      "Epoch 6/80\n",
      "56000/56000 [==============================] - 41s 739us/step - loss: 0.0047 - acc: 0.9938 - val_loss: 0.0043 - val_acc: 0.9951\n",
      "\n",
      "Epoch 00006: val_acc improved from 0.98336 to 0.99507, saving model to weights-aerial-cactus.h5\n",
      "Epoch 7/80\n",
      "56000/56000 [==============================] - 42s 743us/step - loss: 0.0038 - acc: 0.9952 - val_loss: 0.0064 - val_acc: 0.9917\n",
      "\n",
      "Epoch 00007: val_acc did not improve from 0.99507\n",
      "Epoch 8/80\n",
      "56000/56000 [==============================] - 41s 740us/step - loss: 0.0033 - acc: 0.9958 - val_loss: 0.0024 - val_acc: 0.9969\n",
      "\n",
      "Epoch 00008: val_acc improved from 0.99507 to 0.99686, saving model to weights-aerial-cactus.h5\n",
      "Epoch 9/80\n",
      "56000/56000 [==============================] - 42s 742us/step - loss: 0.0033 - acc: 0.9958 - val_loss: 0.0023 - val_acc: 0.9970\n",
      "\n",
      "Epoch 00009: val_acc improved from 0.99686 to 0.99700, saving model to weights-aerial-cactus.h5\n",
      "Epoch 10/80\n",
      "56000/56000 [==============================] - 41s 741us/step - loss: 0.0032 - acc: 0.9961 - val_loss: 0.0047 - val_acc: 0.9946\n",
      "\n",
      "Epoch 00010: val_acc did not improve from 0.99700\n",
      "Epoch 11/80\n",
      "56000/56000 [==============================] - 41s 741us/step - loss: 0.0029 - acc: 0.9966 - val_loss: 0.0037 - val_acc: 0.9957\n",
      "\n",
      "Epoch 00011: val_acc did not improve from 0.99700\n",
      "Epoch 12/80\n",
      "56000/56000 [==============================] - 41s 739us/step - loss: 0.0025 - acc: 0.9968 - val_loss: 0.0014 - val_acc: 0.9983\n",
      "\n",
      "Epoch 00012: val_acc improved from 0.99700 to 0.99829, saving model to weights-aerial-cactus.h5\n",
      "Epoch 13/80\n",
      "56000/56000 [==============================] - 42s 742us/step - loss: 0.0025 - acc: 0.9970 - val_loss: 0.0117 - val_acc: 0.9864\n",
      "\n",
      "Epoch 00013: val_acc did not improve from 0.99829\n",
      "Epoch 14/80\n",
      "56000/56000 [==============================] - 42s 742us/step - loss: 0.0022 - acc: 0.9973 - val_loss: 0.0280 - val_acc: 0.9686\n",
      "\n",
      "Epoch 00014: val_acc did not improve from 0.99829\n",
      "Epoch 15/80\n",
      "56000/56000 [==============================] - 41s 741us/step - loss: 0.0022 - acc: 0.9971 - val_loss: 0.0013 - val_acc: 0.9986\n",
      "\n",
      "Epoch 00015: val_acc improved from 0.99829 to 0.99857, saving model to weights-aerial-cactus.h5\n",
      "\n",
      "Epoch 00015: ReduceLROnPlateau reducing learning rate to 0.00020000000949949026.\n",
      "Epoch 16/80\n",
      "56000/56000 [==============================] - 42s 741us/step - loss: 9.3168e-04 - acc: 0.9989 - val_loss: 9.0338e-04 - val_acc: 0.9990\n",
      "\n",
      "Epoch 00016: val_acc improved from 0.99857 to 0.99900, saving model to weights-aerial-cactus.h5\n",
      "Epoch 17/80\n",
      "56000/56000 [==============================] - 42s 743us/step - loss: 8.8818e-04 - acc: 0.9989 - val_loss: 8.1125e-04 - val_acc: 0.9991\n",
      "\n",
      "Epoch 00017: val_acc improved from 0.99900 to 0.99907, saving model to weights-aerial-cactus.h5\n",
      "Epoch 18/80\n",
      "56000/56000 [==============================] - 42s 743us/step - loss: 6.1909e-04 - acc: 0.9992 - val_loss: 6.6246e-04 - val_acc: 0.9994\n",
      "\n",
      "Epoch 00018: val_acc improved from 0.99907 to 0.99936, saving model to weights-aerial-cactus.h5\n",
      "Epoch 19/80\n",
      "56000/56000 [==============================] - 42s 744us/step - loss: 7.3900e-04 - acc: 0.9991 - val_loss: 5.9231e-04 - val_acc: 0.9994\n",
      "\n",
      "Epoch 00019: val_acc did not improve from 0.99936\n",
      "Epoch 20/80\n",
      "56000/56000 [==============================] - 41s 740us/step - loss: 6.4662e-04 - acc: 0.9992 - val_loss: 7.1511e-04 - val_acc: 0.9992\n",
      "\n",
      "Epoch 00020: val_acc did not improve from 0.99936\n",
      "Epoch 21/80\n",
      "56000/56000 [==============================] - 42s 741us/step - loss: 5.5603e-04 - acc: 0.9993 - val_loss: 5.8416e-04 - val_acc: 0.9994\n",
      "\n",
      "Epoch 00021: val_acc improved from 0.99936 to 0.99943, saving model to weights-aerial-cactus.h5\n",
      "\n",
      "Epoch 00021: ReduceLROnPlateau reducing learning rate to 4.0000001899898055e-05.\n",
      "Epoch 22/80\n",
      "56000/56000 [==============================] - 42s 746us/step - loss: 5.1162e-04 - acc: 0.9993 - val_loss: 4.5240e-04 - val_acc: 0.9995\n",
      "\n",
      "Epoch 00022: val_acc improved from 0.99943 to 0.99950, saving model to weights-aerial-cactus.h5\n",
      "Epoch 23/80\n",
      "56000/56000 [==============================] - 42s 744us/step - loss: 4.3545e-04 - acc: 0.9995 - val_loss: 5.0903e-04 - val_acc: 0.9995\n",
      "\n",
      "Epoch 00023: val_acc did not improve from 0.99950\n",
      "Epoch 24/80\n",
      "56000/56000 [==============================] - 41s 740us/step - loss: 4.7650e-04 - acc: 0.9994 - val_loss: 4.9116e-04 - val_acc: 0.9994\n",
      "\n",
      "Epoch 00024: val_acc did not improve from 0.99950\n",
      "Epoch 25/80\n",
      "56000/56000 [==============================] - 42s 741us/step - loss: 3.8109e-04 - acc: 0.9996 - val_loss: 4.7428e-04 - val_acc: 0.9995\n",
      "\n",
      "Epoch 00025: val_acc did not improve from 0.99950\n",
      "\n",
      "Epoch 00025: ReduceLROnPlateau reducing learning rate to 1e-05.\n",
      "Epoch 26/80\n",
      "56000/56000 [==============================] - 41s 740us/step - loss: 3.1223e-04 - acc: 0.9996 - val_loss: 4.5792e-04 - val_acc: 0.9995\n",
      "\n",
      "Epoch 00026: val_acc did not improve from 0.99950\n",
      "Epoch 27/80\n",
      "14976/56000 [=======>......................] - ETA: 28s - loss: 2.5185e-04 - acc: 0.9997"
     ]
    }
   ],
   "source": [
    "history = model.fit(x_train, \n",
    "            y_train, \n",
    "            batch_size = 128, \n",
    "            epochs = 80, \n",
    "            validation_data = (x_test, y_test),\n",
    "            verbose = 1,\n",
    "            callbacks = callbacks)"
   ]
  },
  {
   "cell_type": "code",
   "execution_count": 14,
   "metadata": {},
   "outputs": [],
   "source": [
    "model.load_weights(file_path)"
   ]
  },
  {
   "cell_type": "code",
   "execution_count": 15,
   "metadata": {},
   "outputs": [
    {
     "name": "stdout",
     "output_type": "stream",
     "text": [
      "4000/4000 [==============================] - 1s 310us/step\n"
     ]
    }
   ],
   "source": [
    "predictions = model.predict(images_test, verbose = 1)"
   ]
  },
  {
   "cell_type": "code",
   "execution_count": 16,
   "metadata": {},
   "outputs": [
    {
     "data": {
      "text/plain": [
       "array([[0.9989281 ],\n",
       "       [0.99892426],\n",
       "       [0.00151393],\n",
       "       ...,\n",
       "       [0.99892485],\n",
       "       [0.99892664],\n",
       "       [0.99892753]], dtype=float32)"
      ]
     },
     "execution_count": 16,
     "metadata": {},
     "output_type": "execute_result"
    }
   ],
   "source": [
    "predictions"
   ]
  },
  {
   "cell_type": "code",
   "execution_count": 17,
   "metadata": {},
   "outputs": [
    {
     "data": {
      "image/png": "[encoded data removed]",
      "text/plain": [
       "<Figure size 432x288 with 1 Axes>"
      ]
     },
     "metadata": {},
     "output_type": "display_data"
    },
    {
     "data": {
      "image/png": "[encoded data removed]",
      "text/plain": [
       "<Figure size 432x288 with 1 Axes>"
      ]
     },
     "metadata": {},
     "output_type": "display_data"
    },
    {
     "data": {
      "text/plain": [
       "<Figure size 432x288 with 0 Axes>"
      ]
     },
     "metadata": {},
     "output_type": "display_data"
    }
   ],
   "source": [
    "plot_training_curves(history)"
   ]
  },
  {
   "cell_type": "code",
   "execution_count": 18,
   "metadata": {},
   "outputs": [
    {
     "data": {
      "image/png": "[encoded data removed]",
      "text/plain": [
       "<Figure size 720x720 with 2 Axes>"
      ]
     },
     "metadata": {},
     "output_type": "display_data"
    },
    {
     "name": "stdout",
     "output_type": "stream",
     "text": [
      "              precision    recall  f1-score   support\n",
      "\n",
      "           0       1.00      1.00      1.00     17456\n",
      "           1       1.00      1.00      1.00     52544\n",
      "\n",
      "   micro avg       1.00      1.00      1.00     70000\n",
      "   macro avg       1.00      1.00      1.00     70000\n",
      "weighted avg       1.00      1.00      1.00     70000\n",
      "\n",
      "\n",
      "\n",
      " AUC: 1.0000\n"
     ]
    }
   ],
   "source": [
    "y_pred_probability = model.predict_proba(x_tr)\n",
    "\n",
    "y_pred = model.predict_classes(x_tr)\n",
    "conf_matrix = confusion_matrix(y_tr, y_pred)\n",
    "fig, ax = plt.subplots(figsize = (10, 10))\n",
    "\n",
    "sns.heatmap(conf_matrix, annot = True, fmt = 'd', xticklabels = ['0', '1'], yticklabels = ['0', '1'])\n",
    "plt.ylabel('Actual')\n",
    "plt.xlabel('Predicted')\n",
    "plt.show()\n",
    "\n",
    "print(classification_report(y_tr, y_pred, target_names = ['0','1']))\n",
    "print(\"\\n\\n AUC: {:<0.4f}\".format(roc_auc_score(y_tr, y_pred_probability)))"
   ]
  },
  {
   "cell_type": "code",
   "execution_count": 19,
   "metadata": {},
   "outputs": [
    {
     "data": {
      "application/vnd.jupyter.widget-view+json": {
       "model_id": "5cf0e006f7824f588da546c83e0279c2",
       "version_major": 2,
       "version_minor": 0
      },
      "text/plain": [
       "HBox(children=(IntProgress(value=0, max=4000), HTML(value='')))"
      ]
     },
     "metadata": {},
     "output_type": "display_data"
    },
    {
     "name": "stdout",
     "output_type": "stream",
     "text": [
      "\n"
     ]
    }
   ],
   "source": [
    "test_df = pd.read_csv('../input/sample_submission.csv')\n",
    "X_test = []\n",
    "images_test = test_df['id'].values\n",
    "\n",
    "for img_id in tqdm_notebook(images_test):\n",
    "    X_test.append(cv.imread(test_path + img_id))\n",
    "    \n",
    "X_test = np.asarray(X_test)\n",
    "X_test = X_test.astype('float32')\n",
    "X_test /= 255\n",
    "\n",
    "y_test_pred = model.predict_proba(X_test)\n",
    "\n",
    "test_df['has_cactus'] = y_test_pred\n",
    "test_df.to_csv('aerial-cactus-submission.csv', index = False)"
   ]
  }
 ],
 "metadata": {
  "kernelspec": {
   "display_name": "Python 3",
   "language": "python",
   "name": "python3"
  },
  "language_info": {
   "codemirror_mode": {
    "name": "ipython",
    "version": 3
   },
   "file_extension": ".py",
   "mimetype": "text/x-python",
   "name": "python",
   "nbconvert_exporter": "python",
   "pygments_lexer": "ipython3",
   "version": "3.6.4"
  }
 },
 "nbformat": 4,
 "nbformat_minor": 1
}
